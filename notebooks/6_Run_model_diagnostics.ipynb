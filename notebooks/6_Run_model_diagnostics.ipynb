{
 "cells": [
  {
   "cell_type": "markdown",
   "metadata": {},
   "source": [
    "# Model diagnostics\n",
    "\n",
    "This section prepare plots of model diagnostics, including [summary of the parameters predictions and Rhat values (ESM 8)](../outputs/ESM_8.csv), [MCMC chains (ESM 7)](../outputs/ESM_7.pdf), plots for posterior distribution for model parameters [](),  [counterfactual plots (figur 4)](../outputs/Fig2.tiff), as well as [posterior check of predicted vs observed values (ESM 10)](../outputs/ESM_10.pdf)."
   ]
  },
  {
   "cell_type": "code",
   "execution_count": null,
   "metadata": {},
   "outputs": [],
   "source": [
    "# Libraries\n",
    "library(here)\n",
    "library(rstan) # for reading the modle\n",
    "library(ggplot2) # for plots\n",
    "library(bayesplot) #for special plots\n",
    "library(ggridges) # For plotting probability density\n",
    "library(grid) # For plotting with ggplot and grid\n",
    "library(gridExtra)# to arrange graphs next to each other\n"
   ]
  },
  {
   "cell_type": "code",
   "execution_count": 2,
   "metadata": {},
   "outputs": [],
   "source": [
    "# Paths to inputs\n",
    "path2models<-here(\"outputs\",\"models\")\n",
    "\n",
    "# Paths to outputs\n",
    "path2outputs<-here(\"outputs\")"
   ]
  },
  {
   "cell_type": "code",
   "execution_count": 6,
   "metadata": {},
   "outputs": [],
   "source": [
    "crops<-c(\"rice\",\"millet\",\"wheat\",\"barley\")"
   ]
  },
  {
   "cell_type": "code",
   "execution_count": 7,
   "metadata": {},
   "outputs": [
    {
     "name": "stdout",
     "output_type": "stream",
     "text": [
      "[1] \"millet\"\n"
     ]
    },
    {
     "name": "stderr",
     "output_type": "stream",
     "text": [
      "No divergences to plot.\n",
      "\n",
      "Scale for 'x' is already present. Adding another scale for 'x', which will\n",
      "replace the existing scale.\n",
      "\n",
      "Scale for 'y' is already present. Adding another scale for 'y', which will\n",
      "replace the existing scale.\n",
      "\n"
     ]
    },
    {
     "data": {
      "image/png": "[encoded data removed]",
      "text/plain": [
       "plot without title"
      ]
     },
     "metadata": {
      "image/png": {
       "height": 420,
       "width": 420
      }
     },
     "output_type": "display_data"
    }
   ],
   "source": [
    "for (crop in crops){\n",
    "    print(crop)\n",
    "    # Set up\n",
    "    \n",
    "    # Define paths\n",
    "    # Inputs\n",
    "    path2model<-paste(path2models,\"/\",crop,\".rds\",sep=\"\") # Model\n",
    "    # Outputs:\n",
    "    path2model_summary<-paste(path2outputs,\"/\",crop,\"_model_summary\",\".csv\",sep=\"\")\n",
    "    path2trace<-paste(path2outputs,\"/\",crop,\"_traceplot.tiff\",sep=\"\")\n",
    "    path2posterior<-paste(path2outputs,\"/\",crop,\"_posterior.tiff\",sep=\"\")\n",
    "    path2pairs<-paste(path2outputs,\"/\",crop,\"_pairs_plot.tiff\",sep=\"\")\n",
    "    # Load model\n",
    "    fit<-readRDS(path2model)\n",
    "    # Get np_cp parameters\n",
    "    np_cp <- nuts_params(fit)\n",
    "    \n",
    "    ### Get model estimates with Rhat values\n",
    "    model_summary<- summary(fit)\n",
    "    model_summary<-as.data.frame(model_summary$summary) # turn into data frame\n",
    "    head(model_summary) # Optionally show top of the model summary in jupyter\n",
    "    write.csv(model_summary, file=path2model_summary, row.names=TRUE) # write to a file\n",
    "    \n",
    "    \n",
    "    # Get traceplot\n",
    "    # Set colour scheme\n",
    "    color_scheme_set(\"blue\")\n",
    "    # Plot the chains\n",
    "    traceplot<-mcmc_trace(fit, #number of warmup iterations to include\n",
    "           regex_pars = c(\"alpha\",\"beta\",\"sigma\"), #which parameters to show\n",
    "           np = np_cp,\n",
    "           facet_args=list(ncol=2)) + #options for how many plots to show per row\n",
    "    theme(plot.margin = unit(c(1,1,0,0.5), \"cm\"),plot.title = element_text(hjust = 0.5),\n",
    "       text = element_text(family = \"sans\"),panel.spacing = unit(0.5, \"lines\"),\n",
    "       legend.key.size=(unit(1,\"cm\"))) + # defines the elements of the theme\n",
    "    legend_move(position = \"bottom\")+ # moves legend to the bottom\n",
    "    facet_text(family = \"sans\") + #defines the font of the text\n",
    "    guides(color = guide_legend(override.aes = list(size = 0.75)))+ #override the legend size\n",
    "    scale_x_continuous(limits = c(0,fit@stan_args[[1]]$iter-fit@stan_args[[1]]$warmup), expand = c(0, 0)) # zoom in on the limits of the x axis\n",
    "    # Save the plot to a file\n",
    "    width =6.85\n",
    "    height = 9.21\n",
    "    ggsave(path2trace,traceplot,width = width, height = height)\n",
    "    \n",
    "    # Plot parameters\n",
    "    ### Plot parameter values with confidence intervals\n",
    "    color_scheme_set(\"brightblue\") # Set colour scheme\n",
    "    # Prepare plot\n",
    "    posterior_plot<-mcmc_intervals(fit,regex_pars = c(\"alpha\",\"beta\",\"sigma\")) +\n",
    "    theme(text = element_text(family = \"sans\"), # defines the font of the text\n",
    "      axis.text=element_text(size=6),# defines the size of the axis labels\n",
    "      panel.grid.major.y=element_line(color=\"lightgray\",size=0.1),\n",
    "      plot.margin = unit(c(0.5,1,0.5,0.5), \"cm\"),plot.title = element_text(hjust = 0.5,size=12))\n",
    "    # Transform ggplot to grid table, to change the size of the data points\n",
    "    posterior_plot <- ggplot_build(posterior_plot) # Builds the qtable from posterior plot\n",
    "    posterior_plot$data[[3]]$size <- rep(1,length(posterior_plot$data[[3]]$size)) # This define the size of the quartile markers\n",
    "    posterior_plot$data[[4]]$size <- rep(2,length(posterior_plot$data[[4]]$size)) # This defines the size of the median points\n",
    "    posterior_plot <- ggplot_gtable(posterior_plot)\n",
    "    ### Also plot the probability density for the parameters\n",
    "    posterior_density<-mcmc_areas(fit,regex_pars = c(\"alpha\",\"beta\",\"sigma\"),point_est =\"none\") +\n",
    "    theme(text = element_text(family = \"sans\"), # defines the font of the text\n",
    "      axis.text=element_text(size=6),# defines the size of the axis labels\n",
    "      panel.grid.major.y=element_line(color=\"lightgray\",size=0.1),\n",
    "      plot.margin = unit(c(0.5,1,0.5,0.5), \"cm\"),plot.title = element_text(hjust = 0.5,size=12))+\n",
    "      scale_y_discrete(expand = c(0.02, 0.02),limits = rev)+\n",
    "      update_geom_defaults(\"ridgeline\",list(size=0.1))+\n",
    "      update_geom_defaults(\"segment\",list(size=0.1))\n",
    "    post<-grid.arrange(posterior_plot,posterior_density,ncol=2)\n",
    "    #Save the plots\n",
    "    width = 6.85\n",
    "    height= 6.85/2\n",
    "    ggsave(path2posterior,post,width = width, height = height, units = \"cm\", device='tiff',dpi=600,scale=2)\n",
    "    \n",
    "    # Pairs plot\n",
    "    color_scheme_set(\"blue\") # Change colour scheme\n",
    "    pairs<-mcmc_pairs(fit, regex_pars = c(\"alpha\",\"beta\",\"sigma\"),off_diag_args = list(size = 0.001),diag_fun=\"dens\") # Plot pairs\n",
    "    width = 17.4\n",
    "    height= 17.4\n",
    "    ggsave(path2pairs,pairs,width = width, height = height, units = \"cm\",device='tiff',dpi=600,scale=4)\n",
    "    \n",
    "    \n",
    "}\n",
    "\n"
   ]
  }
 ],
 "metadata": {
  "kernelspec": {
   "display_name": "R",
   "language": "R",
   "name": "ir"
  },
  "language_info": {
   "codemirror_mode": "r",
   "file_extension": ".r",
   "mimetype": "text/x-r-source",
   "name": "R",
   "pygments_lexer": "r",
   "version": "4.0.3"
  }
 },
 "nbformat": 4,
 "nbformat_minor": 4
}
