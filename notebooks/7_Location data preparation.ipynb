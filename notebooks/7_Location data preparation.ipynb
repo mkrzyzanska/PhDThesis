{
 "cells": [
  {
   "cell_type": "code",
   "execution_count": null,
   "metadata": {},
   "outputs": [],
   "source": [
    "library(here)\n",
    "library(xlsx)\n",
    "library(tmap)\n",
    "library(sf)\n",
    "library(rgdal)\n",
    "library(raster)\n",
    "library(tidyr)\n",
    "library(stringr)"
   ]
  },
  {
   "cell_type": "code",
   "execution_count": 2,
   "metadata": {},
   "outputs": [],
   "source": [
    "### Load utility functions and themes\n",
    "source(here(\"R\",\"getNicheOutline.R\"))\n",
    "source(here(\"R\",\"theme_tmaps.R\"))"
   ]
  },
  {
   "cell_type": "code",
   "execution_count": 3,
   "metadata": {},
   "outputs": [],
   "source": [
    "# Define imputs paths:\n",
    "\n",
    "# Admnistrative map of China\n",
    "path2china<-here('raw_data','CHN_adm')\n",
    "\n",
    "# Archaeological records location data\n",
    "path2buckwheat<-here(\"data\",\"ESM_2.csv\") # Buckwheat's occurrence records\n",
    "path2locations<-here(\"data\",\"guedesbocinsky2018_crops_across_eurasia_translated.xlsx\")\n",
    "\n",
    "# Production and predictions data\n",
    "path2predictions <- here(\"outputs\",\"predictions\")"
   ]
  },
  {
   "cell_type": "code",
   "execution_count": 4,
   "metadata": {},
   "outputs": [],
   "source": [
    "# Define output paths:\n",
    "\n",
    "path2outputs<-here(\"manuscript\",\"Chapter6\",\"Figs\",\"Raster\")\n",
    "path2sites<-here(\"data\",\"site_locations.csv\")\n",
    "path2limits<-here(\"outputs\",\"chronology_limits.csv\")"
   ]
  },
  {
   "cell_type": "code",
   "execution_count": 5,
   "metadata": {},
   "outputs": [
    {
     "name": "stdout",
     "output_type": "stream",
     "text": [
      "Reading layer `CHN_adm0' from data source `G:\\My Drive\\my_repositories\\PhD\\raw_data\\CHN_adm' using driver `ESRI Shapefile'\n",
      "Simple feature collection with 1 feature and 70 fields\n",
      "geometry type:  MULTIPOLYGON\n",
      "dimension:      XY\n",
      "bbox:           xmin: 73.5577 ymin: 18.15931 xmax: 134.7739 ymax: 53.56086\n",
      "geographic CRS: WGS 84\n",
      "OGR data source with driver: ESRI Shapefile \n",
      "Source: \"G:\\My Drive\\my_repositories\\PhD\\raw_data\\CHN_adm\", layer: \"CHN_adm3\"\n",
      "with 2409 features\n",
      "It has 13 fields\n",
      "Integer64 fields read as strings:  ID_0 ID_1 ID_2 ID_3 \n"
     ]
    }
   ],
   "source": [
    "# Import data:\n",
    "# Import the outer border of China\n",
    "outer_border<-st_read(dsn=path2china,layer='CHN_adm0')\n",
    "# Import the spatial polygons data frame of counties:\n",
    "china<-readOGR(dsn=path2china,layer='CHN_adm3')\n",
    "# Import production data"
   ]
  },
  {
   "cell_type": "markdown",
   "metadata": {},
   "source": [
    "### Load crop locations"
   ]
  },
  {
   "cell_type": "code",
   "execution_count": 6,
   "metadata": {},
   "outputs": [],
   "source": [
    "locations<-read.xlsx(path2locations,1)"
   ]
  },
  {
   "cell_type": "code",
   "execution_count": 7,
   "metadata": {},
   "outputs": [],
   "source": [
    "# Inculde only rows with data, that were not explicitly excluded\n",
    "locations<-locations[!is.na(locations$Site)&is.na(locations$Exclude.),]"
   ]
  },
  {
   "cell_type": "code",
   "execution_count": 8,
   "metadata": {},
   "outputs": [],
   "source": [
    "locations[,c(\"Longitude\")]<-as.numeric(locations$Longitude)\n",
    "locations[,c(\"Latitude\")]<-as.numeric(locations$Latitude)"
   ]
  },
  {
   "cell_type": "code",
   "execution_count": 9,
   "metadata": {},
   "outputs": [],
   "source": [
    "locations$lower_range<-locations$Age.range.lower..BP\n",
    "locations$upper_range<-locations$Age.range.upper..BP"
   ]
  },
  {
   "cell_type": "code",
   "execution_count": 47,
   "metadata": {},
   "outputs": [],
   "source": [
    "locations[is.na(locations$Age.range.lower..BP),\"lower_range\"] <- locations[is.na(locations$Age.range.lower..BP),]$X14C.age.BP + (2*locations[is.na(locations$Age.range.lower..BP),]$X1.sigma.uncertainty)\n",
    "locations[is.na(locations$Age.range.lower..BP),\"upper_range\"] <- locations[is.na(locations$Age.range.upper..BP),]$X14C.age.BP - (2*locations[is.na(locations$Age.range.lower..BP),]$X1.sigma.uncertainty)"
   ]
  },
  {
   "cell_type": "code",
   "execution_count": 48,
   "metadata": {},
   "outputs": [],
   "source": [
    "locations_df<-locations[,c(\"Site\",\"Longitude\",\"Latitude\",\"X14C.date.on.cereal.\",\"lower_range\",\"upper_range\",\"Wheat\",\"Barley\",\"Foxtail.millet\",\"Broomcorn.millet\",\"Millet..unidentified.\",\"Rice\",\"Rice..wild.\")] # Get only required columns"
   ]
  },
  {
   "cell_type": "code",
   "execution_count": 49,
   "metadata": {},
   "outputs": [],
   "source": [
    "locations_df<-locations_df[!(is.na(locations_df$lower_range))&!(is.na(locations_df$upper_range)),]"
   ]
  },
  {
   "cell_type": "code",
   "execution_count": 50,
   "metadata": {},
   "outputs": [],
   "source": [
    "buckwheat<-read.csv(path2buckwheat)"
   ]
  },
  {
   "cell_type": "code",
   "execution_count": 51,
   "metadata": {},
   "outputs": [],
   "source": [
    "buckwheat$Buckwheat<-ifelse(buckwheat$Taxonomic_identification==\"Fagopyrum tataricum\",NA,TRUE)\n",
    "buckwheat$TartaryBuckwheat<-ifelse(buckwheat$Taxonomic_identification==\"Fagopyrum tataricum\",TRUE,NA)\n",
    "buckwheat$X14C.date.on.cereal.<-ifelse(buckwheat$Sample_type==\"Charred seeds\"&buckwheat$Dating_method==\"AMS 14C\",TRUE,FALSE)"
   ]
  },
  {
   "cell_type": "code",
   "execution_count": 52,
   "metadata": {},
   "outputs": [],
   "source": [
    "sample_type<-buckwheat[,c(\"Sample_type\",\"Site_short\",\"Buckwheat\")]\n",
    "colnames(sample_type)[2]<-\"Site\""
   ]
  },
  {
   "cell_type": "code",
   "execution_count": 53,
   "metadata": {},
   "outputs": [],
   "source": [
    "buckwheat<-buckwheat[,c(\"Site_short\",\"longitude\",\"latitude\",\"X14C.date.on.cereal.\",\"start_date\",\"end_date\",\"Buckwheat\",\"TartaryBuckwheat\")]\n",
    "colnames(buckwheat)<-c(\"Site\",\"Longitude\",\"Latitude\",\"X14C.date.on.cereal.\",\"lower_range\",\"upper_range\",\"Buckwheat\",\"TartaryBuckwheat\")"
   ]
  },
  {
   "cell_type": "code",
   "execution_count": 54,
   "metadata": {},
   "outputs": [],
   "source": [
    "common_sites<- buckwheat[buckwheat$Site %in% locations_df$Site,]$Site\n",
    "cs_df<-unique(locations_df[locations_df$Site %in% common_sites,c(\"Site\",\"Longitude\",\"Latitude\")])"
   ]
  },
  {
   "cell_type": "code",
   "execution_count": 55,
   "metadata": {},
   "outputs": [],
   "source": [
    "buckwheat<-merge(buckwheat,cs_df, by=c(\"Site\"),all=TRUE)"
   ]
  },
  {
   "cell_type": "code",
   "execution_count": 56,
   "metadata": {},
   "outputs": [],
   "source": [
    "buckwheat$Longitude.x<- ifelse(is.na(buckwheat$Longitude.y),buckwheat$Longitude.x,buckwheat$Longitude.y)\n",
    "buckwheat$Latitude.x<- ifelse(is.na(buckwheat$Latitude.y),buckwheat$Latitude.x,buckwheat$Latitude.y)"
   ]
  },
  {
   "cell_type": "code",
   "execution_count": 57,
   "metadata": {},
   "outputs": [],
   "source": [
    "buckwheat<-buckwheat[,!colnames(buckwheat)%in%c(\"Longitude.y\",\"Latitude.y\")]"
   ]
  },
  {
   "cell_type": "code",
   "execution_count": 58,
   "metadata": {},
   "outputs": [],
   "source": [
    "colnames(buckwheat)<-c(\"Site\",\"Longitude\",\"Latitude\",\"X14C.date.on.cereal.\",\"lower_range\",\"upper_range\",\"Buckwheat\",\"TartaryBuckwheat\")"
   ]
  },
  {
   "cell_type": "code",
   "execution_count": 59,
   "metadata": {},
   "outputs": [],
   "source": [
    "locations_df<-merge(locations_df,buckwheat, by=c(\"Site\",\"Longitude\",\"Latitude\",\"X14C.date.on.cereal.\",\"lower_range\",\"upper_range\"),all=TRUE)"
   ]
  },
  {
   "cell_type": "code",
   "execution_count": 60,
   "metadata": {},
   "outputs": [],
   "source": [
    "# Transform location data data into a spatial points data.frame\n",
    "coordinates(locations_df)<-~Longitude+Latitude\n",
    "crs(locations_df) <-crs(china)"
   ]
  },
  {
   "cell_type": "code",
   "execution_count": 61,
   "metadata": {},
   "outputs": [],
   "source": [
    "locations_china<-locations_df[china,]"
   ]
  },
  {
   "cell_type": "code",
   "execution_count": 88,
   "metadata": {},
   "outputs": [],
   "source": [
    "uq<-locations_china[,\"Site\"]\n",
    "uq<-uq[which(!duplicated(uq$Site)),]"
   ]
  },
  {
   "cell_type": "code",
   "execution_count": 89,
   "metadata": {},
   "outputs": [],
   "source": [
    "zd <- zerodist(uq)"
   ]
  },
  {
   "cell_type": "code",
   "execution_count": 122,
   "metadata": {},
   "outputs": [],
   "source": [
    "locations<-as.data.frame(locations_china)"
   ]
  },
  {
   "cell_type": "code",
   "execution_count": 125,
   "metadata": {},
   "outputs": [],
   "source": [
    "# Assign occurrence records to time slices (up till 8000 BP)\n",
    "\n",
    "start=1500\n",
    "loc<-subset(locations,upper_range<=1500)\n",
    "loc$period <- \"1000 BP\"\n",
    "for (i in c(1:17)){\n",
    "    sub<-subset(locations,(upper_range<=start+1000 & upper_range>start)| (lower_range>start & lower_range<=start+1000 ))\n",
    "    start=start+1000\n",
    "    if(nrow(sub)>0){\n",
    "       sub$period <- paste(start-500,\"BP\",sep=\" \")\n",
    "       loc<-rbind(loc,sub)}\n",
    "}\n",
    "#older_records<-subset(locations,upper_range>10500 | lower_range>10500)\n",
    "#older_records$period <- \"> 10 000 BP\"\n",
    "#loc<-rbind(loc,older_records)"
   ]
  },
  {
   "cell_type": "code",
   "execution_count": 126,
   "metadata": {},
   "outputs": [],
   "source": [
    "### Aggregate by period\n",
    "\n",
    "loc<-loc[,!names(loc)%in%c(\"lower_range\",\"upper_range\",\"X14C.date.on.cereal.\")]"
   ]
  },
  {
   "cell_type": "code",
   "execution_count": 127,
   "metadata": {},
   "outputs": [],
   "source": [
    "loc<-unique(loc)"
   ]
  },
  {
   "cell_type": "code",
   "execution_count": 129,
   "metadata": {},
   "outputs": [],
   "source": [
    "# Aggregate sites assigned to the same period"
   ]
  },
  {
   "cell_type": "code",
   "execution_count": 130,
   "metadata": {},
   "outputs": [],
   "source": [
    "loc<-aggregate(loc[,!(names(loc)%in%c(\"Site\",\"Longitude\",\"Latitude\",\"period\"))], \n",
    "             by = list(Site=loc$Site,Longitude=loc$Longitude,Latitude=loc$Latitude,period=loc$period),\n",
    "             FUN=function(x) {if ((TRUE %in% x==TRUE)) return(TRUE) else return(NA)})"
   ]
  },
  {
   "cell_type": "code",
   "execution_count": 131,
   "metadata": {},
   "outputs": [],
   "source": [
    "loc$period<-factor(loc$period,levels=paste(c(seq(1000,14000,1000),17000),\"BP\"),ordered=TRUE)"
   ]
  },
  {
   "cell_type": "code",
   "execution_count": 132,
   "metadata": {},
   "outputs": [],
   "source": [
    "loc<-loc[!(loc$period>\"10000 BP\"&!is.na(loc$Buckwheat)),]"
   ]
  },
  {
   "cell_type": "code",
   "execution_count": 133,
   "metadata": {},
   "outputs": [],
   "source": [
    "loc$Millet<-ifelse((!is.na(loc$Foxtail.millet)|!is.na(loc$Broomcorn.millet)|!is.na(loc$Millet..unidentified.)),TRUE,NA)"
   ]
  },
  {
   "cell_type": "code",
   "execution_count": 152,
   "metadata": {},
   "outputs": [],
   "source": [
    " loc<-merge(loc,sample_type,by=c(\"Site\",\"Buckwheat\"),all.x=TRUE)"
   ]
  },
  {
   "cell_type": "code",
   "execution_count": 156,
   "metadata": {},
   "outputs": [],
   "source": [
    "loc[loc$Site==\"Kyung-lung Mesa\",]$Buckwheat<-NA"
   ]
  },
  {
   "cell_type": "code",
   "execution_count": 157,
   "metadata": {},
   "outputs": [],
   "source": [
    "write.csv(loc,path2sites)"
   ]
  },
  {
   "cell_type": "code",
   "execution_count": 88,
   "metadata": {},
   "outputs": [],
   "source": [
    "#crops<-c(\"rice\",\"millet\",\"buckwheat\",\"wheat\",\"barley\")\n",
    "#locByCrop<-gather(loc, crop,present,str_to_title(crops),na.rm=TRUE)\n",
    "#d<-aggregate(period~crop,data=locByCrop,FUN=\"max\")"
   ]
  }
 ],
 "metadata": {
  "kernelspec": {
   "display_name": "R",
   "language": "R",
   "name": "ir"
  },
  "language_info": {
   "codemirror_mode": "r",
   "file_extension": ".r",
   "mimetype": "text/x-r-source",
   "name": "R",
   "pygments_lexer": "r",
   "version": "4.0.3"
  }
 },
 "nbformat": 4,
 "nbformat_minor": 4
}
