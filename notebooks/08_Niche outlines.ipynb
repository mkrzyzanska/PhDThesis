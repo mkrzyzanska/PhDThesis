{
 "cells": [
  {
   "cell_type": "code",
   "execution_count": null,
   "metadata": {},
   "outputs": [],
   "source": [
    "### Load libraries\n",
    "library(here)\n",
    "library(rgeos)\n",
    "library(geosphere)\n",
    "library(rgdal)\n",
    "library(\"ggplot2\")\n",
    "library(\"tidyr\")\n",
    "library(raster) # for crs\n",
    "library(ggbeeswarm)\n",
    "library(tmap)\n",
    "library(sf)\n",
    "library(stringr)\n",
    "library(scales)"
   ]
  },
  {
   "cell_type": "code",
   "execution_count": 2,
   "metadata": {},
   "outputs": [],
   "source": [
    "### Load utility functions and themes\n",
    "source(here(\"R\",\"getNicheOutline.R\"))\n",
    "source(here(\"R\",\"theme_tmaps.R\"))"
   ]
  },
  {
   "cell_type": "code",
   "execution_count": 3,
   "metadata": {},
   "outputs": [],
   "source": [
    "### Define paths\n",
    "\n",
    "# Define imputs paths:\n",
    "\n",
    "# Admnistrative map of China\n",
    "path2china<-here('raw_data','CHN_adm')\n",
    "\n",
    "# Archaeological records location data\n",
    "path2buckwheat<-here(\"data\",\"ESM_2.csv\") # Buckwheat's occurrence records\n",
    "path2locations<-here(\"data\",\"site_locations.csv\")\n",
    "\n",
    "# Production and predictions data\n",
    "path2predictions <- here(\"outputs\",\"predictions\")\n",
    "\n",
    "#### Paths to outputs:\n",
    "\n",
    "path2out<-here(\"outputs\")"
   ]
  },
  {
   "cell_type": "code",
   "execution_count": 4,
   "metadata": {},
   "outputs": [],
   "source": [
    "# Import data:\n",
    "loc<-read.csv(path2locations)\n",
    "loc$period<-factor(loc$period,levels=paste(c(seq(1000,14000,1000),17000),\"BP\"),ordered=TRUE)\n",
    "coordinates(loc)<-~Longitude+Latitude"
   ]
  },
  {
   "cell_type": "code",
   "execution_count": 5,
   "metadata": {},
   "outputs": [
    {
     "name": "stdout",
     "output_type": "stream",
     "text": [
      "Reading layer `CHN_adm0' from data source `G:\\My Drive\\my_repositories\\PhD\\raw_data\\CHN_adm' using driver `ESRI Shapefile'\n",
      "Simple feature collection with 1 feature and 70 fields\n",
      "geometry type:  MULTIPOLYGON\n",
      "dimension:      XY\n",
      "bbox:           xmin: 73.5577 ymin: 18.15931 xmax: 134.7739 ymax: 53.56086\n",
      "geographic CRS: WGS 84\n",
      "OGR data source with driver: ESRI Shapefile \n",
      "Source: \"G:\\My Drive\\my_repositories\\PhD\\raw_data\\CHN_adm\", layer: \"CHN_adm3\"\n",
      "with 2409 features\n",
      "It has 13 fields\n",
      "Integer64 fields read as strings:  ID_0 ID_1 ID_2 ID_3 \n"
     ]
    }
   ],
   "source": [
    "# Import the outer border of China\n",
    "outer_border<-st_read(dsn=path2china,layer='CHN_adm0')\n",
    "# Import the spatial polygons data frame of counties:\n",
    "china<-readOGR(dsn=path2china,layer='CHN_adm3')\n",
    "# Import production data"
   ]
  },
  {
   "cell_type": "code",
   "execution_count": 6,
   "metadata": {},
   "outputs": [],
   "source": [
    "# List of crops in the analysis:\n",
    "\n",
    "crops<-c(\"rice\",\"millet\",\"buckwheat\",\"wheat\",\"barley\")"
   ]
  },
  {
   "cell_type": "code",
   "execution_count": 7,
   "metadata": {},
   "outputs": [
    {
     "name": "stdout",
     "output_type": "stream",
     "text": [
      "[1] \"rice\"\n",
      "[1] \"millet\"\n",
      "[1] \"buckwheat\"\n",
      "[1] \"wheat\"\n",
      "[1] \"barley\"\n"
     ]
    }
   ],
   "source": [
    "for (crop in crops){\n",
    "    print(crop)\n",
    "    path2pred_summary<-paste(path2predictions,\"/\",crop,\"_predictions.csv\",sep=\"\")\n",
    "    pred_summary<-read.csv(path2pred_summary,row.names=1)\n",
    "\n",
    "    ### Get the log means predictions, 0.05, and 0.95 quantiles for each county in a separate variables\n",
    "    mean_names<-colnames(pred_summary)[grepl(\"log\",colnames(pred_summary))&grepl(\"mean\",colnames(pred_summary))]\n",
    "    mean<-pred_summary[,colnames(pred_summary)[grepl(\"log\",colnames(pred_summary))&grepl(\"mean\",colnames(pred_summary))]]\n",
    "    q5_names<-colnames(pred_summary)[grepl(\"log\",colnames(pred_summary))&grepl(\"X5\",colnames(pred_summary))]\n",
    "    q5<-pred_summary[,colnames(pred_summary)[grepl(\"log\",colnames(pred_summary))&grepl(\"X5\",colnames(pred_summary))]]\n",
    "    q95_names<-colnames(pred_summary)[grepl(\"log\",colnames(pred_summary))&grepl(\"X95\",colnames(pred_summary))]\n",
    "    q95<-pred_summary[,colnames(pred_summary)[grepl(\"log\",colnames(pred_summary))&grepl(\"X95\",colnames(pred_summary))]]\n",
    "\n",
    "    # Put the values together in the dataframe\n",
    "    df<-cbind(mean,q5,q95)\n",
    "    colnames(df)<-paste(crop,colnames(df),sep=\"_\")\n",
    "    # Simplify colum names a bit\n",
    "    colnames(df)<-gsub(\"s_pred\",\"\",colnames(df))\n",
    "    colnames(df)<-gsub(\"_X\",\"\",colnames(df))\n",
    "    colnames(df)<-gsub(\"\\\\.\",\"\",colnames(df))\n",
    "    \n",
    "    # Bind data to spatial polygons\n",
    "    china@data<-cbind(china@data,df)\n",
    "    }"
   ]
  },
  {
   "cell_type": "code",
   "execution_count": 8,
   "metadata": {},
   "outputs": [],
   "source": [
    "### Transform china spatial points dataframe to simple features\n",
    "china_sf<-st_as_sf(china) "
   ]
  },
  {
   "cell_type": "code",
   "execution_count": 9,
   "metadata": {},
   "outputs": [],
   "source": [
    "### Bind the location data, with the predictions for counties in which buckwheat was found:\n",
    "proj4string(loc) <- crs(china)\n",
    "pred_data<-sp::over(loc,china)\n",
    "loc@data<-cbind(loc@data,pred_data)"
   ]
  },
  {
   "cell_type": "code",
   "execution_count": 10,
   "metadata": {},
   "outputs": [],
   "source": [
    "crops<-c(\"rice\",\"millet\",\"buckwheat\",\"wheat\",\"barley\")"
   ]
  },
  {
   "cell_type": "code",
   "execution_count": null,
   "metadata": {},
   "outputs": [],
   "source": [
    "timeslices <-levels(loc@data$period)\n",
    "\n",
    "for (crop in (crops)){\n",
    "    \n",
    "    columns<-grep(paste(\"^\",crop,sep=\"\"),tolower(colnames(loc@data)))\n",
    "    if(crop%in%c(\"millet\",\"buckwheat\")){columns<-grep(crop,tolower(colnames(loc@data)))}\n",
    "    columns<-columns[!(columns%in%grep(\"_log\",tolower(colnames(loc@data))))]\n",
    "    for (column in columns){\n",
    "        for (i in timeslices[1:length(timeslices)]){\n",
    "            print(crop)\n",
    "            print(column)\n",
    "            print(i)\n",
    "            loc@data[loc@data$period==i&!is.na(loc@data[,column]),paste(crop,c('Mean','5','95'),sep=\"\")]<- loc@data[loc@data$period==i&!is.na(loc@data[,column]),colnames(loc@data) %in% paste(crop,c(\"_mean\",\"5\",\"95\"),\"_\",gsub(\" BP\",\"\",i),\"_log\",sep=\"\")]\n",
    "        }\n",
    "    }\n",
    "}"
   ]
  },
  {
   "cell_type": "markdown",
   "metadata": {},
   "source": [
    "### Get the outlines"
   ]
  },
  {
   "cell_type": "code",
   "execution_count": 12,
   "metadata": {},
   "outputs": [],
   "source": [
    "path2out<-here(\"outputs\")"
   ]
  },
  {
   "cell_type": "code",
   "execution_count": null,
   "metadata": {},
   "outputs": [],
   "source": [
    "for(crop in crops){\n",
    "    print(crop)\n",
    "    # Set up\n",
    "    t<-loc@data[,c(\"period\",paste(crop,\"Mean\",sep=\"\"))]\n",
    "    colnames(t)[2]<-\"threshold\"\n",
    "    t<-t[!is.na(t$threshold),]\n",
    "    minimum<-unique(sort(t$threshold))[1]\n",
    "    if(crop%in%c(\"millet\",\"barley\")){\n",
    "        outlier<-minimum\n",
    "        minimum<- unique(sort(t$threshold))[4]\n",
    "    }else if(crop==\"wheat\"){\n",
    "        outlier<-minimum\n",
    "        minimum<-unique(sort(t$threshold))[3]}\n",
    "         \n",
    "    # Gat maximum extent and outliers:\n",
    "    ts<-aggregate(threshold~period,data=t,FUN=\"min\")\n",
    "    ts<-ts[ts$period>t[t$threshold==minimum,\"period\"] & ts$threshold>minimum,]   \n",
    "\n",
    "    # This just gets the maximum outline\n",
    "    facets<-unique(t$period)\n",
    "    columns<-unique(gsub(\" BP\",\"_log\",paste(crop,\"mean\",t$period,sep=\"_\")))\n",
    "    ord<-as.numeric(gsub(\"_log\",\"\",gsub(paste(crop,\"_mean_\",sep=\"\"),\"\",columns)))\n",
    "    columns<-columns[order(ord)]\n",
    "    facets<-facets[order(ord)]\n",
    "    print(\"maximu\")\n",
    "         \n",
    "    max_border<-getNicheOutline(columns,threshold=minimum,threshold_max=NULL,facets,sf_object=china_sf)\n",
    "         \n",
    "    if(crop%in%c(\"millet\",\"wheat\",\"barley\")){\n",
    "        print(\"outliers\")\n",
    "        outlier_border<-getNicheOutline(columns,threshold=outlier,threshold_max=NULL,facets,sf_object=china_sf)\n",
    "    }\n",
    "   \n",
    "    # This gets period specific outlines\n",
    "    print(\"period\")  \n",
    "    columns<-gsub(\" BP\",\"_log\",paste(crop,\"mean\",ts$period,sep=\"_\"))\n",
    "    ord<-as.numeric(gsub(\"_log\",\"\",gsub(paste(crop,\"_mean_\",sep=\"\"),\"\",columns)))\n",
    "    columns<-columns[order(ord)]\n",
    "    facets<-facets[order(ord)]\n",
    "    thresholds<-ts$threshold\n",
    "    facets<- ts$period\n",
    "   \n",
    "    period_border<-getNicheOutline(columns=columns,thresholds,threshold_max=NULL,facets,sf_object=china_sf)\n",
    "   \n",
    "    # Define extent types   \n",
    "    max_border@data$threshold<-\"maximum extent\"\n",
    "    if (crop!=\"rice\"){outlier_border@data$threshold<-\"outliers extent\"}\n",
    "    period_border@data$threshold<-\"extent by period\"\n",
    "   \n",
    "    period_border@data$id <- seq(max(max_border@data$id)+1,length.out=nrow(period_border@data))\n",
    "    if(crop==\"millet\"){\n",
    "        outlier_border@data$id <- seq(max(period_border@data$id)+1,length.out=nrow(outlier_border@data))\n",
    "    }\n",
    "    if(crop==\"rice\"){niche <- rbind(max_border,period_border)}else{niche <- rbind(max_border,period_border, outlier_border)}\n",
    "    niche@data$facet<-as.character(niche@data$facet)\n",
    "    writeOGR(niche,dsn=paste(path2out,\"/\",crop,\"_niche\",sep=\"\"),layer=paste(crop,\"niche\",sep=\"_\"),driver=\"ESRI Shapefile\")\n",
    "   }"
   ]
  }
 ],
 "metadata": {
  "kernelspec": {
   "display_name": "R",
   "language": "R",
   "name": "ir"
  },
  "language_info": {
   "codemirror_mode": "r",
   "file_extension": ".r",
   "mimetype": "text/x-r-source",
   "name": "R",
   "pygments_lexer": "r",
   "version": "4.0.3"
  }
 },
 "nbformat": 4,
 "nbformat_minor": 4
}
