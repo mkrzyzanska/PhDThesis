{
 "cells": [
  {
   "cell_type": "code",
   "execution_count": null,
   "metadata": {},
   "outputs": [],
   "source": [
    "### Load libraries\n",
    "library(here)\n",
    "library(rstan)\n",
    "library(rgdal)"
   ]
  },
  {
   "cell_type": "code",
   "execution_count": null,
   "metadata": {},
   "outputs": [],
   "source": [
    "#### Define paths:\n",
    "\n",
    "# Inputs\n",
    "path2env_sd<- here(\"data\",\"Sd_Env_by_county.csv\")\n",
    "path2prd_counties<-here(\"data\",\"production\",\"by_county\")\n",
    "path2adjacency <- here(\"data\",\"adjacency.csv\")\n",
    "stan_model<-here(\"stan\",\"parabolic_iCAR.stan\")\n",
    "\n",
    "# Outputs\n",
    "path2models<-here(\"outputs\",\"models\")"
   ]
  },
  {
   "cell_type": "code",
   "execution_count": null,
   "metadata": {},
   "outputs": [],
   "source": [
    "### Load data\n",
    "env<-read.csv(path2env_sd,row.names=1) # predictors\n",
    "adjacency<-read.csv(path2adjacency) # adjacency"
   ]
  },
  {
   "cell_type": "code",
   "execution_count": null,
   "metadata": {},
   "outputs": [],
   "source": [
    "### Format data\n",
    "\n",
    "# Get the adjacent nodes from the matrix:\n",
    "node1<-adjacency$node1\n",
    "node2<-adjacency$node2\n",
    "N_edges<-length(node1)\n",
    "\n",
    "# Define stan data:\n",
    "y=prd$logProportionAreaCultivated\n",
    "x1=env$BIO10_sd\n",
    "x2=env$BIO17_sd\n",
    "x3=env$BIO4_sd\n",
    "x4=env$BIO9_sd\n",
    "x5=env$npp_sd\n",
    "\n",
    "### Define model parameters:\n",
    "\n",
    "warmup=2000\n",
    "iter=10000\n",
    "chains=5\n",
    "cores=5\n",
    "thin=1\n",
    "\n",
    "\n",
    "crop=\"rice\"\n",
    "path2model <- paste(path2models,\"/\",crop,\".rds\",sep=\"\")\n",
    "path2prd<-paste(path2prd_counties,\"/\",crop,\".csv\",sep=\"\")\n",
    "\n",
    "prd<-read.csv(path2prd,row.names=1) # response\n",
    "y=prd$logProportionAreaCultivated\n",
    "#Format the data\n",
    "stan_data <- list(N = N, x1 = x1, y = y,x2=x2,x3=x3,x4=x4,x5=x5,N_edges=N_edges,node1=node1,node2=node2)"
   ]
  },
  {
   "cell_type": "code",
   "execution_count": null,
   "metadata": {},
   "outputs": [],
   "source": [
    "crops<-c(\"wheat\",\"barley\")"
   ]
  },
  {
   "cell_type": "code",
   "execution_count": null,
   "metadata": {},
   "outputs": [],
   "source": [
    "for (crop in crops){\n",
    "    # Set crop specific paths\n",
    "    print(crop)\n",
    "    path2model <- paste(path2models,\"/\",crop,\".rds\",sep=\"\")\n",
    "    path2prd<-paste(path2prd_counties,\"/\",crop,\".csv\",sep=\"\")\n",
    "    # Load production data\n",
    "    prd<-read.csv(path2prd,row.names=1) # response\n",
    "    N<-nrow(prd)\n",
    "    y=prd$logProportionAreaCultivated\n",
    "    #Format the data\n",
    "    stan_data <- list(N = N, x1 = x1, y = y,x2=x2,x3=x3,x4=x4,x5=x5,N_edges=N_edges,node1=node1,node2=node2)\n",
    "    ### Run model\n",
    "    fit <- stan(file = stan_model, data = stan_data, warmup = warmup, iter = iter, chains = chains, cores = cores, thin = thin,control = list(max_treedepth = 20))\n",
    "\n",
    "    ### Save model\n",
    "    saveRDS(fit, path2model) }"
   ]
  }
 ],
 "metadata": {
  "kernelspec": {
   "display_name": "R",
   "language": "R",
   "name": "ir"
  },
  "language_info": {
   "codemirror_mode": "r",
   "file_extension": ".r",
   "mimetype": "text/x-r-source",
   "name": "R",
   "pygments_lexer": "r",
   "version": "4.0.3"
  }
 },
 "nbformat": 4,
 "nbformat_minor": 4
}
