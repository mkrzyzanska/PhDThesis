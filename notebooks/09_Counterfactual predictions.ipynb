{
 "cells": [
  {
   "cell_type": "markdown",
   "metadata": {},
   "source": [
    "### Counterfactual plots"
   ]
  },
  {
   "cell_type": "code",
   "execution_count": null,
   "metadata": {},
   "outputs": [],
   "source": [
    "### Load libraries\n",
    "library(here) # setting paths\n",
    "library(rstan) # for reading the modle\n",
    "library(ggplot2) # for plots\n",
    "library(matrixStats) # for geting quantiles\n",
    "library(gridExtra)"
   ]
  },
  {
   "cell_type": "code",
   "execution_count": 2,
   "metadata": {},
   "outputs": [],
   "source": [
    "# Input paths\n",
    "path2stats<-here(\"data\",\"Mean_and_SD.csv\") # Environmental variables summary\n",
    "path2envtab<-here(\"outputs\",\"Predictor_variables.csv\")\n",
    "path2cfiles<-here(\"outputs\",\"predictions\",\"counter_factual\") # Output files - to list fiels for counterfactual plots\n",
    "\n",
    "# Output paths\n",
    "\n",
    "path2cfp<-here(\"manuscript\",\"Chapter6\",\"Figs\",\"Raster\")"
   ]
  },
  {
   "cell_type": "code",
   "execution_count": 3,
   "metadata": {},
   "outputs": [],
   "source": [
    "crops<-c(\"rice\",\"millet\",\"buckwheat\",\"wheat\",\"barley\")"
   ]
  },
  {
   "cell_type": "code",
   "execution_count": 4,
   "metadata": {},
   "outputs": [],
   "source": [
    "env_tab<-read.csv(path2envtab,row.names=1)\n",
    "stats<-read.csv(path2stats,row.names=1)\n",
    "cffiles <- list.files(path=path2cfiles,full.names=TRUE)"
   ]
  },
  {
   "cell_type": "code",
   "execution_count": null,
   "metadata": {},
   "outputs": [],
   "source": [
    "for (crop in crops){\n",
    "    print(crop)\n",
    "    # Subset data for specific crops\n",
    "    cfiles<-subset(cffiles,lapply(cffiles, grepl,pattern=paste(\"/\",crop,sep=\"\"))==TRUE)\n",
    "    \n",
    "    # Load data for counterfactual plots:\n",
    "    counterfactual_data<-c()\n",
    "    for(i in 1:length(cfiles)){\n",
    "    cpredictions<-read.csv(cfiles[i])\n",
    "        y<-as.numeric(colMeans(cpredictions)) # Get mean predictions for each value of the predictor\n",
    "        yquant<-data.frame(colQuantiles(as.matrix(cpredictions),probs = c(0.05,0.25,0.75,0.95))) # Get quantile for each value of the predictor\n",
    "        yquant$mean<-y # combine data\n",
    "        yquant$value<-seq(from = stats[i,'low_range'], to = stats[i,'high_range'],length.out=1000)\n",
    "        if(rownames(stats)[i]==\"BIO4 Temperature Seasonality\"){\n",
    "          yquant$value<-yquant$value/100\n",
    "        }\n",
    "        yquant$name<-rownames(stats)[i]\n",
    "      \n",
    "    counterfactual_data[[i]]<-yquant\n",
    "    }\n",
    "    \n",
    "    ### Define labels and range for the plot\n",
    "    names<-env_tab[rownames(stats),] # panel names\n",
    "    units <- c(\"°C\",\"mm\",\"standard deviation of average monthly temperatures\\nin °C*100\",\"°C\",\" mass of carbon per unit area per year\") # units\n",
    "    yrange<-c(min(unlist(lapply(counterfactual_data,function(x) min(x$X5)))),max(unlist(lapply(counterfactual_data,function(x) max(x$X95))))) # predictions range\n",
    "                                                                                            \n",
    "     ### Prepare plots for all variables\n",
    "    p1 <- ggplot(counterfactual_data[[1]], aes(value))+\n",
    "    geom_ribbon(aes(ymin=exp(X5.), ymax=exp(X95.)),fill=\"#cce5ff\" )+\n",
    "    geom_ribbon(aes(ymin=exp(X25.), ymax=exp(X75.)),fill=\"#99cbff\" )+\n",
    "    geom_line(aes(y=exp(mean)),col=\"#004c99\")+\n",
    "    scale_y_continuous(\"\",expand=c(0,0),limits=exp(yrange),trans='log10')+\n",
    "    scale_x_continuous(units[1],expand=c(0,0))+\n",
    "    ggtitle(names[1])+\n",
    "    theme_classic()+\n",
    "    theme(title=element_text(size=6))\n",
    "\n",
    "    p2 <- ggplot(counterfactual_data[[2]], aes(value))+\n",
    "    geom_ribbon(aes(ymin=exp(X5.), ymax=exp(X95.)),fill=\"#cce5ff\" )+\n",
    "    geom_ribbon(aes(ymin=exp(X25.), ymax=exp(X75.)),fill=\"#99cbff\" )+\n",
    "    geom_line(aes(y=exp(mean)),col=\"#004c99\")+\n",
    "    scale_y_continuous(\"\",expand=c(0,0),limits=exp(yrange),trans='log10')+\n",
    "    scale_x_continuous(units[2],expand=c(0,0))+\n",
    "    ggtitle(names[2])+\n",
    "    theme_classic()+\n",
    "    theme(title=element_text(size=6))\n",
    "\n",
    "    p3 <- ggplot(counterfactual_data[[3]], aes(value))+\n",
    "    geom_ribbon(aes(ymin=exp(X5.), ymax=exp(X95.)),fill=\"#cce5ff\" )+\n",
    "    geom_ribbon(aes(ymin=exp(X25.), ymax=exp(X75.)),fill=\"#99cbff\" )+\n",
    "    geom_line(aes(y=exp(mean)),col=\"#004c99\")+\n",
    "    scale_y_continuous(\"Predicted suitability (area under cultivation)\",expand=c(0,0),limits=exp(yrange),trans='log10')+\n",
    "    scale_x_continuous(units[3],expand=c(0,0))+\n",
    "    ggtitle(names[3])+\n",
    "    theme_classic()+\n",
    "    theme(axis.title=element_text(size=7),\n",
    "     title=element_text(size=6))\n",
    "\n",
    "    p4 <- ggplot(counterfactual_data[[4]], aes(value))+\n",
    "    geom_ribbon(aes(ymin=exp(X5.), ymax=exp(X95.)),fill=\"#cce5ff\" )+\n",
    "    geom_ribbon(aes(ymin=exp(X25.), ymax=exp(X75.)),fill=\"#99cbff\" )+\n",
    "    geom_line(aes(y=exp(mean)),col=\"#004c99\")+\n",
    "    scale_y_continuous(\"\",expand=c(0,0),limits=exp(yrange),trans='log10')+\n",
    "    scale_x_continuous(units[4],expand=c(0,0))+\n",
    "    ggtitle(names[4])+\n",
    "    theme_classic()+\n",
    "    theme(title=element_text(size=6))\n",
    "\n",
    "    p5 <- ggplot(counterfactual_data[[5]], aes(value))+\n",
    "    geom_ribbon(aes(ymin=exp(X5.), ymax=exp(X95.)),fill=\"#cce5ff\" )+\n",
    "    geom_ribbon(aes(ymin=exp(X25.), ymax=exp(X75.)),fill=\"#99cbff\" )+\n",
    "    geom_line(aes(y=exp(mean)),col=\"#004c99\")+\n",
    "    scale_y_continuous(\"\",expand=c(0,0),limits=exp(yrange),trans='log10')+\n",
    "    scale_x_continuous(units[5],expand=c(0,0))+\n",
    "    ggtitle(names[5])+\n",
    "    theme_classic()+\n",
    "    theme(title=element_text(size=6))\n",
    "\n",
    "    # Prepare legend\n",
    "    p6<- ggplot(counterfactual_data[[1]], aes(value))+\n",
    "    geom_ribbon(aes(ymin=exp(X5.), ymax=exp(X95.),fill=\"95% confidence interval\"))+\n",
    "    geom_ribbon(aes(ymin=exp(X25.), ymax=exp(X75.),fill=\"50% confidence interval\" ))+\n",
    "    scale_fill_manual(values=c(\"#cce5ff\",\"#99cbff\"),name=\"\")+\n",
    "    geom_line(aes(y=exp(mean),col=\"Mean predictions\"))+\n",
    "    scale_colour_manual(values=c(\"#004c99\"),name=\"\")+\n",
    "    theme_classic()\n",
    "\n",
    "    legend <- cowplot::get_legend(p6)                                                                                       \n",
    "    \n",
    "    # Arrange grid and optionally plot in jupyter\n",
    "    options(repr.plot.width=6,repr.plot.height=6,repr.plot.res=300)\n",
    "    cfp<-grid.arrange(p1, p2, p3,p4,p5,legend, ncol=2)\n",
    "    \n",
    "    ### Save plot\n",
    "   # height=16 #20.4\n",
    "   # width=14.3 #17.4\n",
    "   # ggsave(paste(path2cfp,\"/\",crop,\"_cfp.png\",sep=\"\"),cfp,device=\"png\",width = width, height = height,unit=\"cm\",dpi=600)\n",
    "                                                                                                \n",
    "}"
   ]
  },
  {
   "cell_type": "code",
   "execution_count": 33,
   "metadata": {},
   "outputs": [],
   "source": [
    "### Save plot\n",
    "height=16 #20.4\n",
    "width=14.3 #17.4\n",
    "ggsave(paste(path2cfp,\"/\",crop,\"_cfp.png\",sep=\"\"),cfp,device=\"png\",width = width, height = height,unit=\"cm\",dpi=600)"
   ]
  }
 ],
 "metadata": {
  "kernelspec": {
   "display_name": "R",
   "language": "R",
   "name": "ir"
  },
  "language_info": {
   "codemirror_mode": "r",
   "file_extension": ".r",
   "mimetype": "text/x-r-source",
   "name": "R",
   "pygments_lexer": "r",
   "version": "4.0.3"
  }
 },
 "nbformat": 4,
 "nbformat_minor": 4
}
