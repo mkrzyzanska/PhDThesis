{
 "cells": [
  {
   "cell_type": "code",
   "execution_count": 5,
   "metadata": {},
   "outputs": [],
   "source": [
    "library(ggplot2)\n",
    "library(ggbeeswarm)"
   ]
  },
  {
   "cell_type": "code",
   "execution_count": 80,
   "metadata": {},
   "outputs": [
    {
     "name": "stderr",
     "output_type": "stream",
     "text": [
      "Warning message:\n",
      "\"package 'here' was built under R version 4.0.4\"\n",
      "here() starts at G:/My Drive/my_repositories/PhD\n",
      "\n"
     ]
    }
   ],
   "source": [
    "library(here)"
   ]
  },
  {
   "cell_type": "code",
   "execution_count": 76,
   "metadata": {},
   "outputs": [],
   "source": [
    "a1<-runif(30,80,100)\n",
    "b1<-runif(30,60,100)\n",
    "c1<-runif(30,40,100)\n",
    "\n",
    "a2<-runif(30,50,80)\n",
    "b2<-runif(30,50,80)\n",
    "c2<-runif(30,50,80)\n",
    "\n",
    "c3<-runif(30,80,100)\n",
    "b3<-runif(30,60,100)\n",
    "a3<-runif(30,40,100)\n",
    "\n"
   ]
  },
  {
   "cell_type": "code",
   "execution_count": null,
   "metadata": {},
   "outputs": [],
   "source": [
    "df <- data.frame(y=c(a1,b1,c1,a2,b2,c2,a3,b3,c3),\n",
    "                group = rep(c(rep(\"Period 1\",20), rep(\"Period 2\",20), rep(\"Period 3\",20)),3),\n",
    "                facet = c(rep(1,60),rep(2,60),rep(3,60)))\n"
   ]
  },
  {
   "cell_type": "code",
   "execution_count": 81,
   "metadata": {},
   "outputs": [
    {
     "data": {
      "image/png": "[encoded data removed]",
      "text/plain": [
       "plot without title"
      ]
     },
     "metadata": {
      "image/png": {
       "height": 420,
       "width": 420
      }
     },
     "output_type": "display_data"
    }
   ],
   "source": [
    "(scenarios<-ggplot(df, aes(x = group, y = y)) +\n",
    " theme_classic()+\n",
    "  theme(axis.text.y = element_blank(),axis.ticks.y=element_blank(),panel.border = element_rect(colour = \"black\", fill=NA))+\n",
    "  geom_beeswarm(cex=3)+\n",
    "  facet_grid(rows=vars(facet),switch=\"y\")+\n",
    "  ylab(\"RELATIVE SUITABILITY\")+\n",
    "  xlab(\"TIME\"))\n",
    " "
   ]
  },
  {
   "cell_type": "code",
   "execution_count": 82,
   "metadata": {},
   "outputs": [],
   "source": [
    "ggsave(scenarios,filename = here(\"scenarios.pdf\"),width = 5,height = 15,units = \"cm\",dpi = 300,scale=2)"
   ]
  }
 ],
 "metadata": {
  "kernelspec": {
   "display_name": "R",
   "language": "R",
   "name": "ir"
  },
  "language_info": {
   "codemirror_mode": "r",
   "file_extension": ".r",
   "mimetype": "text/x-r-source",
   "name": "R",
   "pygments_lexer": "r",
   "version": "4.0.3"
  }
 },
 "nbformat": 4,
 "nbformat_minor": 4
}
