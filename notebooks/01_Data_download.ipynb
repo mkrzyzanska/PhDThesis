{
 "cells": [
  {
   "cell_type": "markdown",
   "metadata": {},
   "source": [
    "# Data extraction\n",
    "\n",
    "The following code, extracts, loads, subsets and plots data used in the analysis and to prepare figures for the paper. These include:\n",
    "\n",
    " -  data on global production of buckwhat, millet and rice available from [EarthStat](http://www.earthstat.org/)\n",
    " -  outline of the continents and the shaded relief map combined with custom elevation colors from [Natural Earth](https://www.naturalearthdata.com/)\n",
    " -  administrative division of China available from [DIVA-GIS](https://www.diva-gis.org/gdata)\n",
    " -  data on climatic conditions for the past 120 000 years made available by [Beyer et al. 2019](https://doi.org/10.1038/S41597-020-0552-1) ([figshare repository](https://figshare.com/articles/dataset/LateQuaternary_Environment_nc/12293345))\n",
    " -  pollen recrods available from ([Cao et al. 2013](https://doi.org/10.1016/j.revpalbo.2013.02.003)), and obtained from the authors (original file not provided here only the subset with *Fagopyrum* records)\n",
    " -  dataset with the locations of fagopyrum macro and micro remains from China, based on [Hunt et al. 2018](https://doi.org/10.1007/s00334-017-0649-4), and available in the project's repository (original data sources for individual sites are provided in [ESM 3](../data/ESM_3.pdf))."
   ]
  },
  {
   "cell_type": "code",
   "execution_count": null,
   "metadata": {},
   "outputs": [],
   "source": [
    "### Load libraries:\n",
    "library(here) # setting paths\n",
    "library(raster) # for spatial data\n",
    "library(rgdal) # for spatial data\n",
    "library(\"rioja\") # pollen plots\n",
    "library(maptools) # making maps with plotRGB\n",
    "library(prettymapr) # for north arrow\n",
    "library(tmap) # map visualisations\n",
    "library(stringr) # wraps labels on the maps\n",
    "library(ncdf4) # loading climate data"
   ]
  },
  {
   "cell_type": "code",
   "execution_count": 2,
   "metadata": {},
   "outputs": [],
   "source": [
    "crops<-c(\"millet\",\"rice\",\"wheat\",\"barley\",\"buckwheat\")"
   ]
  },
  {
   "cell_type": "code",
   "execution_count": 3,
   "metadata": {},
   "outputs": [],
   "source": [
    "crop_fnames<-paste(here(\"raw_data\"),crops,\"_HarvAreaYield_Geotiff\",sep=\"\")\n"
   ]
  },
  {
   "cell_type": "code",
   "execution_count": 4,
   "metadata": {},
   "outputs": [],
   "source": [
    "crop_fnames<-paste(here(\"raw_data\"),\"/\",crops,\"_HarvAreaYield_Geotiff\",sep=\"\")\n"
   ]
  },
  {
   "cell_type": "code",
   "execution_count": 5,
   "metadata": {},
   "outputs": [],
   "source": [
    "### Define input files:\n",
    "\n",
    "path2timeslices<-here(\"outputs\",\"chronology_limits.csv\")"
   ]
  },
  {
   "cell_type": "code",
   "execution_count": 6,
   "metadata": {},
   "outputs": [],
   "source": [
    "### Define urls from which to download data and paths to their location in the repository:\n",
    "\n",
    "# Production data:\n",
    "buckwheat_url <- \"https://s3.us-east-2.amazonaws.com/earthstatdata/HarvestedAreaYield175Crops_Indvidual_Geotiff/buckwheat_HarvAreaYield_Geotiff.zip\"\n",
    "# Also define the name of the folder with the production data, taken from the path\n",
    "buckwheat_fname<-here(\"raw_data\",\"buckwheat_HarvAreaYield_Geotiff\")\n",
    "\n",
    "crop_urls<-paste(\"https://s3.us-east-2.amazonaws.com/earthstatdata/HarvestedAreaYield175Crops_Indvidual_Geotiff/\",crops,\"_HarvAreaYield_Geotiff.zip\",sep=\"\")\n",
    "crop_fnames<-paste(here(\"raw_data\"),\"/\",crops,\"_HarvAreaYield_Geotiff\",sep=\"\")\n",
    "\n",
    "#millet_url<-\"https://s3.us-east-2.amazonaws.com/earthstatdata/HarvestedAreaYield175Crops_Indvidual_Geotiff/millet_HarvAreaYield_Geotiff.zip\"\n",
    "#millet_fname<-here(\"raw_data\",\"millet_HarvAreaYield_Geotiff\")\n",
    "\n",
    "#rice_url<-\"https://s3.us-east-2.amazonaws.com/earthstatdata/HarvestedAreaYield175Crops_Indvidual_Geotiff/rice_HarvAreaYield_Geotiff.zip\"\n",
    "#rice_fname<-here(\"raw_data\",\"rice_HarvAreaYield_Geotiff\")\n",
    "\n",
    "#wheat_url<-\"https://s3.us-east-2.amazonaws.com/earthstatdata/HarvestedAreaYield175Crops_Indvidual_Geotiff/wheat_HarvAreaYield_Geotiff.zip\"\n",
    "#wheat_fname<-here(\"raw_data\",\"wheat_HarvAreaYield_Geotiff\")\n",
    "\n",
    "#barley_url<-\"https://s3.us-east-2.amazonaws.com/earthstatdata/HarvestedAreaYield175Crops_Indvidual_Geotiff/barley_HarvAreaYield_Geotiff.zip\"\n",
    "#barley_fname<-here(\"raw_data\",\"barley_HarvAreaYield_Geotiff\")\n",
    "\n",
    "\n",
    "# Outline of the continents:\n",
    "cont_url<-\"https://www.naturalearthdata.com/http//www.naturalearthdata.com/download/50m/physical/ne_50m_land.zip\"\n",
    "# Also define the name of the folder with continents, taken from the path\n",
    "cont_fname<-here(\"raw_data\",\"ne_50m_land\")\n",
    "\n",
    "# Administrative division of China:\n",
    "china_url<-\"http://biogeo.ucdavis.edu/data/diva/adm/CHN_adm.zip\"\n",
    "# Define the directory to which the files will be extracted\n",
    "china_fname <- here(\"raw_data\",\"CHN_adm\")\n",
    "\n",
    "# Environmental variables:\n",
    "env_url <- \"https://ndownloader.figshare.com/articles/12293345/versions/3\"\n",
    "# Define the directory to which the files will be extracted\n",
    "env_fname <- here(\"raw_data\",\"12293345\")\n",
    "\n",
    "# Shaded relief map of the world:\n",
    "\n",
    "ne_url <- \"http://www.naturalearthdata.com/http//www.naturalearthdata.com/download/10m/raster/HYP_HR_SR_W_DR.zip\"\n",
    "ne_fname <-here(\"raw_data\",\"HYP_HR_SR_W_DR\")\n",
    "\n",
    "# Pollen data from Cao et al 2013:\n",
    "path2pollen<-here(\"raw_data\",\"FossilPollenDatabasePercentageAsian.csv\")\n",
    "\n",
    "# Fagopyrum locations:\n",
    "\n",
    "path2locations<-here(\"data\",\"ESM_2.csv\")\n",
    "\n",
    "# Path to raw data folder\n",
    "path2raw_data<- here(\"raw_data\")"
   ]
  },
  {
   "cell_type": "code",
   "execution_count": 7,
   "metadata": {},
   "outputs": [],
   "source": [
    "### Define the output paths:\n",
    "\n",
    "# Subsets of production data\n",
    "path2production<-here(\"data\",\"production\")\n",
    "path2clipped_china<-here(\"data\",\"production\",\"clipped\")\n",
    "path2masked_china<-here(\"data\",\"production\",\"masked\")\n",
    "\n",
    "# Plots of production in the world and in China\n",
    "path2world_production <- here(\"outputs\",\"ESM_4.tiff\")\n",
    "path2world_millet_production <- here(\"outputs\",\"gprod_millet.tiff\")\n",
    "path2world_rice_production <- here(\"outputs\",\"gprod_rice.tiff\")\n",
    "\n",
    "gprod_paths<-paste(here(\"outputs\"),\"/\",\"global_production_\",crops,\".tiff\",sep=\"\")\n",
    "\n",
    "path2china_production <- here(\"outputs\",\"ESM_5.tiff\")\n",
    "\n",
    "# Table with full names and short names of environmental variables:\n",
    "\n",
    "path2env_table<-here(\"outputs\",\"Predictor_variables.csv\")\n",
    "\n",
    "# Past environmental layers:\n",
    "\n",
    "path2past_env<-here(\"data\",\"environmental\",\"past\")\n",
    "path2present_env<-here(\"data\",\"environmental\",\"present\")\n",
    "\n",
    "# Pollen diagrams\n",
    "\n",
    "path2pollen_diag<-here(\"outputs\",\"ESM_1.pdf\")\n",
    "\n",
    "# Map of site locations (figure 1)\n",
    "\n",
    "path2locations_map<-here(\"outputs\",\"Fig1.tiff\")"
   ]
  },
  {
   "cell_type": "code",
   "execution_count": null,
   "metadata": {},
   "outputs": [],
   "source": [
    "# Create directory to downlaod raw data into:\n",
    "dir.create(path2raw_data)\n",
    "dir.create(path2present_env)"
   ]
  },
  {
   "cell_type": "code",
   "execution_count": 8,
   "metadata": {},
   "outputs": [],
   "source": [
    "### Load utility functions that will be used in data processing and plots:\n",
    "source(here(\"R\",\"extractRastersFromNetCDF.r\"))\n",
    "source(here(\"R\",\"theme_tmaps.R\"))"
   ]
  },
  {
   "cell_type": "markdown",
   "metadata": {},
   "source": [
    "## Maps backgrounds for plotting"
   ]
  },
  {
   "cell_type": "code",
   "execution_count": 5,
   "metadata": {},
   "outputs": [
    {
     "data": {
      "text/html": [
       "TRUE"
      ],
      "text/latex": [
       "TRUE"
      ],
      "text/markdown": [
       "TRUE"
      ],
      "text/plain": [
       "[1] TRUE"
      ]
     },
     "metadata": {},
     "output_type": "display_data"
    }
   ],
   "source": [
    "### Download the shapefile of the continents as well:\n",
    "\n",
    "# Download the zipped folder \n",
    "download.file(cont_url,paste(cont_fname,\".zip\",sep=\"\"), mode = \"wb\")\n",
    "# Unzip the folder and get the names of its contents:\n",
    "files <- unzip(paste(cont_fname,\".zip\",sep=\"\"),exdir=cont_fname)\n",
    "# Remove the zipped folder\n",
    "file.remove(paste(cont_fname,\".zip\",sep=\"\"))"
   ]
  },
  {
   "cell_type": "code",
   "execution_count": 36,
   "metadata": {},
   "outputs": [
    {
     "name": "stdout",
     "output_type": "stream",
     "text": [
      "OGR data source with driver: ESRI Shapefile \n",
      "Source: \"G:\\My Drive\\my_repositories\\PhD\\raw_data\\ne_50m_land\", layer: \"ne_50m_land\"\n",
      "with 1420 features\n",
      "It has 3 fields\n",
      "Integer64 fields read as strings:  scalerank \n"
     ]
    }
   ],
   "source": [
    "# Load the shapefile with the outline of the continents\n",
    "continents <- readOGR(dsn = cont_fname, layer = sub('.*/', '', cont_fname))"
   ]
  },
  {
   "cell_type": "markdown",
   "metadata": {},
   "source": [
    "## Present distribution of crops\n",
    "\n",
    "### Extract global production\n",
    "\n",
    "Data on the present global production of buckwhat is available from [EarthStat](http://www.earthstat.org/) and contains information on the volume of production, cultivated area and yield, as well as data quality. In the model it will be used as a proxy for the suitabiliy of environment for buckwheat cultivation (response variable). The following code downloads the data from EarthStat and extracts the individual files from the archive. Then it also downloads and loads the files with the outline of the continents from [NaturalEarth](https://www.naturalearthdata.com/downloads/50m-physical-vectors/) to serve as a background for data visualisation and plots the visualisation."
   ]
  },
  {
   "cell_type": "code",
   "execution_count": null,
   "metadata": {},
   "outputs": [],
   "source": [
    "### Download and extract the production data\n",
    "\n",
    "# Buckwheat\n",
    "#download.file(prod_url,paste(prod_fname,\".zip\",sep=\"\"), mode = \"wb\")\n",
    "# Unzip the folder and get the names of its contents:\n",
    "#prod_files <- unzip(paste(prod_fname,\".zip\",sep=\"\"),exdir=path2raw_data)\n",
    "# Remove the zipped folder\n",
    "#file.remove(paste(prod_fname,\".zip\",sep=\"\"))"
   ]
  },
  {
   "cell_type": "code",
   "execution_count": 7,
   "metadata": {},
   "outputs": [
    {
     "data": {
      "text/html": [
       "TRUE"
      ],
      "text/latex": [
       "TRUE"
      ],
      "text/markdown": [
       "TRUE"
      ],
      "text/plain": [
       "[1] TRUE"
      ]
     },
     "metadata": {},
     "output_type": "display_data"
    }
   ],
   "source": [
    "# Millet\n",
    "\n",
    "download.file(millet_url,paste(millet_fname,\".zip\",sep=\"\"), mode = \"wb\")\n",
    "# Unzip the folder and get the names of its contents:\n",
    "millet_files <- unzip(paste(millet_fname,\".zip\",sep=\"\"),exdir=path2raw_data)\n",
    "# Remove the zipped folder\n",
    "file.remove(paste(millet_fname,\".zip\",sep=\"\"))\n"
   ]
  },
  {
   "cell_type": "code",
   "execution_count": 9,
   "metadata": {},
   "outputs": [
    {
     "data": {
      "text/html": [
       "TRUE"
      ],
      "text/latex": [
       "TRUE"
      ],
      "text/markdown": [
       "TRUE"
      ],
      "text/plain": [
       "[1] TRUE"
      ]
     },
     "metadata": {},
     "output_type": "display_data"
    }
   ],
   "source": [
    "download.file(rice_url,paste(rice_fname,\".zip\",sep=\"\"), mode = \"wb\")\n",
    "# Unzip the folder and get the names of its contents:\n",
    "rice_files <- unzip(paste(rice_fname,\".zip\",sep=\"\"),exdir=path2raw_data)\n",
    "# Remove the zipped folder\n",
    "file.remove(paste(rice_fname,\".zip\",sep=\"\"))"
   ]
  },
  {
   "cell_type": "code",
   "execution_count": 6,
   "metadata": {},
   "outputs": [
    {
     "data": {
      "text/html": [
       "TRUE"
      ],
      "text/latex": [
       "TRUE"
      ],
      "text/markdown": [
       "TRUE"
      ],
      "text/plain": [
       "[1] TRUE"
      ]
     },
     "metadata": {},
     "output_type": "display_data"
    }
   ],
   "source": [
    "download.file(wheat_url,paste(wheat_fname,\".zip\",sep=\"\"), mode = \"wb\")\n",
    "# Unzip the folder and get the names of its contents:\n",
    "wheat_files <- unzip(paste(wheat_fname,\".zip\",sep=\"\"),exdir=path2raw_data)\n",
    "# Remove the zipped folder\n",
    "file.remove(paste(wheat_fname,\".zip\",sep=\"\"))"
   ]
  },
  {
   "cell_type": "code",
   "execution_count": 7,
   "metadata": {},
   "outputs": [
    {
     "data": {
      "text/html": [
       "TRUE"
      ],
      "text/latex": [
       "TRUE"
      ],
      "text/markdown": [
       "TRUE"
      ],
      "text/plain": [
       "[1] TRUE"
      ]
     },
     "metadata": {},
     "output_type": "display_data"
    }
   ],
   "source": [
    "download.file(barley_url,paste(barley_fname,\".zip\",sep=\"\"), mode = \"wb\")\n",
    "# Unzip the folder and get the names of its contents:\n",
    "barley_files <- unzip(paste(barley_fname,\".zip\",sep=\"\"),exdir=path2raw_data)\n",
    "# Remove the zipped folder\n",
    "file.remove(paste(barley_fname,\".zip\",sep=\"\"))"
   ]
  },
  {
   "cell_type": "code",
   "execution_count": 6,
   "metadata": {},
   "outputs": [],
   "source": [
    "### Load data into workspace:\n",
    "\n",
    "# Millet\n",
    "# List all layers related to buckwheat production\n",
    "millet_layers<-list.files(path=millet_fname,pattern='tif$',full.names=TRUE)\n",
    "# Put all the layers into a raster stack\n",
    "millet<-stack(millet_layers)"
   ]
  },
  {
   "cell_type": "code",
   "execution_count": 7,
   "metadata": {},
   "outputs": [],
   "source": [
    "# Rice\n",
    "# List all layers related to buckwheat production\n",
    "rice_layers<-list.files(path=rice_fname,pattern='tif$',full.names=TRUE)\n",
    "# Put all the layers into a raster stack\n",
    "rice<-stack(rice_layers)"
   ]
  },
  {
   "cell_type": "code",
   "execution_count": 69,
   "metadata": {},
   "outputs": [],
   "source": [
    "layers<-lapply(crop_fnames,list.files,pattern='tif$',full.names=TRUE)"
   ]
  },
  {
   "cell_type": "code",
   "execution_count": 72,
   "metadata": {},
   "outputs": [],
   "source": [
    "crop_data<-lapply(layers,stack)\n",
    "correct_layer<-crop_data[[1]][[3]]\n",
    "crop_data<-lapply(crop_data,function(x,correct_layer){ x[is.na(correct_layer)]<-NA \n",
    "                  return(x)},correct_layer)"
   ]
  },
  {
   "cell_type": "code",
   "execution_count": 34,
   "metadata": {},
   "outputs": [
    {
     "data": {
      "text/html": [
       "<style>\n",
       ".list-inline {list-style: none; margin:0; padding: 0}\n",
       ".list-inline>li {display: inline-block}\n",
       ".list-inline>li:not(:last-child)::after {content: \"\\00b7\"; padding: 0 .5ex}\n",
       "</style>\n",
       "<ol class=list-inline><li>'millet_DataQuality_HarvestedArea'</li><li>'millet_DataQuality_Yield'</li><li>'millet_HarvestedAreaFraction'</li><li>'millet_HarvestedAreaHectares'</li><li>'millet_Production'</li><li>'millet_YieldPerHectare'</li></ol>\n"
      ],
      "text/latex": [
       "\\begin{enumerate*}\n",
       "\\item 'millet\\_DataQuality\\_HarvestedArea'\n",
       "\\item 'millet\\_DataQuality\\_Yield'\n",
       "\\item 'millet\\_HarvestedAreaFraction'\n",
       "\\item 'millet\\_HarvestedAreaHectares'\n",
       "\\item 'millet\\_Production'\n",
       "\\item 'millet\\_YieldPerHectare'\n",
       "\\end{enumerate*}\n"
      ],
      "text/markdown": [
       "1. 'millet_DataQuality_HarvestedArea'\n",
       "2. 'millet_DataQuality_Yield'\n",
       "3. 'millet_HarvestedAreaFraction'\n",
       "4. 'millet_HarvestedAreaHectares'\n",
       "5. 'millet_Production'\n",
       "6. 'millet_YieldPerHectare'\n",
       "\n",
       "\n"
      ],
      "text/plain": [
       "[1] \"millet_DataQuality_HarvestedArea\" \"millet_DataQuality_Yield\"        \n",
       "[3] \"millet_HarvestedAreaFraction\"     \"millet_HarvestedAreaHectares\"    \n",
       "[5] \"millet_Production\"                \"millet_YieldPerHectare\"          "
      ]
     },
     "metadata": {},
     "output_type": "display_data"
    }
   ],
   "source": [
    "# Look at the existing names of the layers in the raster stack\n",
    "names(crop_data[[1]])\n",
    "# Create a list of more informative names\n",
    "prod_names <- c(\"Data quality: harvested area\",\"Data quality: yield\",\"Harvested area: fractional\",\"Harvested area: hectares\",\n",
    "            \"Production in tons\",\"Yield (tons per hectare)\")\n",
    "# Prepare the key from the census level of data quality layers (available from metadata pdf in a downloaded folder) \n",
    "census_level <-c(\"missing census data\",\"country level census data\",\"interpolated from within 2° lat/lon\",\"state level census data\",\"county level census data\")\n",
    "\n",
    "#Make a color palette for visualisation\n",
    "pal <- colorRampPalette(c(\"lightyellow\",\"orange\",\"orange3\",\"saddlebrown\"))\n",
    "\n",
    "# Set NA's to the cells that represent the seas in the data quality layers:\n",
    "#millet[[1]][is.na(millet[[3]])]<-NA\n",
    "#millet[[2]][is.na(millet[[3]])]<-NA\n",
    "\n",
    "#rice[is.na(millet[[3]])]<-NA"
   ]
  },
  {
   "cell_type": "code",
   "execution_count": 76,
   "metadata": {},
   "outputs": [
    {
     "name": "stdout",
     "output_type": "stream",
     "text": [
      "[1] 1\n",
      "[1] 2\n",
      "[1] 3\n",
      "[1] 4\n"
     ]
    }
   ],
   "source": [
    "options(repr.plot.width=7,repr.plot.height=7,repr.plot.res=250)\n",
    "gmaps<-c()\n",
    "### Plot global production data\n",
    "for (i in 1:length(crops)){\n",
    "    print(i)\n",
    "# Make panels for the data quality:\n",
    "gprod1<-tm_shape(crop_data[[i]][[c(1,2)]]) + # Order the maps in a sensible way\n",
    "    tm_graticules(lwd = 0.05,col=\"grey75\",n.x=2,n.y=2,labels.size = 0.6)+ #Add the lat long lines\n",
    "    # Add raster layers:\n",
    "    tm_raster(labels=str_wrap(census_level,40),style=c(\"cat\",\"cat\"),palette=pal(4),legend.reverse = TRUE,title=\"\",interval.closure=\"left\",showNA=FALSE,colorNA=\"NA\",midpoint=NULL)+\n",
    "    # Make facets\n",
    "    tm_facets(free.scales=TRUE,free.coords=TRUE,ncol=2,nrow=1,free.scales.raster=TRUE)+\n",
    "    # Add continents outline\n",
    "    tm_shape(continents)+\n",
    "    tm_borders(col=\"grey85\")+\n",
    "    # Change theme\n",
    "    theme_tmaps+\n",
    "    # Change layout\n",
    "    tm_layout(panel.labels=prod_names[1:2], \n",
    "              panel.label.height=2,\n",
    "              panel.label.size=0.8,\n",
    "              legend.text.size=0.45,\n",
    "              legend.position=c(0,0.075),\n",
    "             )\n",
    "\n",
    "# Make panels for the production data:\n",
    "gprod2<-tm_shape(crop_data[[i]][[c(3,5,4,6)]]) + # Order the maps in a sensible way\n",
    "    tm_graticules(lwd = 0.05,col=\"grey75\",n.x=2,n.y=2,labels.size = 0.8)+ #Add the lat long lines\n",
    "    # Add raster layer:\n",
    "    tm_raster(style=c(\"cont\",\"cont\",\"cont\",\"cont\"),palette=pal(4),legend.reverse = TRUE,title=\"\",interval.closure=\"left\",showNA=FALSE,colorNA=\"NA\",midpoint=NULL)+\n",
    "    # Make facets\n",
    "    tm_facets(free.scales=TRUE,free.coords=TRUE,ncol=2,nrow=2,free.scales.raster=TRUE)+\n",
    "    # Add continents outline\n",
    "    tm_shape(continents)+\n",
    "    tm_borders(col=\"grey85\")+\n",
    "    theme_tmaps+\n",
    "    tm_layout(panel.labels=prod_names[c(3,5,4,6)],\n",
    "              legend.position=c(0,0),\n",
    "              panel.label.height=2,\n",
    "              panel.label.size=1,\n",
    "              legend.text.size=0.6\n",
    "             )+\n",
    "# Add info about the data projection\n",
    "tm_credits(\"Coordinate system: World Geodetic System 1984\\nData source: http://www.earthstat.org\",position=c(\"left\",\"bottom\"),)\n",
    "\n",
    "# Arrenge the maps together\n",
    "gprod<-tmap_arrange(gprod1, gprod2, heights=c(1/3,2/3))\n",
    "\n",
    "#Optional: plot the maps\n",
    "gmaps[[i]]<-gprod\n",
    "}"
   ]
  },
  {
   "cell_type": "code",
   "execution_count": null,
   "metadata": {},
   "outputs": [],
   "source": [
    "# Save the plot as ESM 4\n",
    "width=17.4\n",
    "height=17.4\n",
    "for(i in 1:length(crops)){\n",
    "tmap_save(tm = gmaps[[i]], filename = gprod_paths[i], width = width, height = height,units = \"cm\",dpi = 600)}"
   ]
  },
  {
   "cell_type": "markdown",
   "metadata": {},
   "source": [
    "### Subset production for China\n",
    "\n",
    "The following code also downloads the shapefile with the administrative division of China from [DIVA-GIS](http://biogeo.ucdavis.edu/data/diva/adm/CHN_adm.zip), which is then used to crop, mask and plot data on buckwheat production in China. Is saves the cropped and masked subests of data as GeoTiffs for convenient access."
   ]
  },
  {
   "cell_type": "code",
   "execution_count": 9,
   "metadata": {},
   "outputs": [
    {
     "data": {
      "text/html": [
       "'G:/My Drive/my_repositories/PhD/raw_data \\\\ china_fname'"
      ],
      "text/latex": [
       "'G:/My Drive/my\\_repositories/PhD/raw\\_data \\textbackslash{}\\textbackslash{} china\\_fname'"
      ],
      "text/markdown": [
       "'G:/My Drive/my_repositories/PhD/raw_data \\\\ china_fname'"
      ],
      "text/plain": [
       "[1] \"G:/My Drive/my_repositories/PhD/raw_data \\\\ china_fname\""
      ]
     },
     "metadata": {},
     "output_type": "display_data"
    }
   ],
   "source": [
    "paste(path2raw_data,\"\\\\\",\"china_fname\")"
   ]
  },
  {
   "cell_type": "code",
   "execution_count": 10,
   "metadata": {},
   "outputs": [
    {
     "data": {
      "text/html": [
       "'G:/My Drive/my_repositories/PhD/raw_data\\\\G:/My Drive/my_repositories/PhD/raw_data/CHN_adm'"
      ],
      "text/latex": [
       "'G:/My Drive/my\\_repositories/PhD/raw\\_data\\textbackslash{}\\textbackslash{}G:/My Drive/my\\_repositories/PhD/raw\\_data/CHN\\_adm'"
      ],
      "text/markdown": [
       "'G:/My Drive/my_repositories/PhD/raw_data\\\\G:/My Drive/my_repositories/PhD/raw_data/CHN_adm'"
      ],
      "text/plain": [
       "[1] \"G:/My Drive/my_repositories/PhD/raw_data\\\\G:/My Drive/my_repositories/PhD/raw_data/CHN_adm\""
      ]
     },
     "metadata": {},
     "output_type": "display_data"
    }
   ],
   "source": [
    "paste(path2raw_data,\"\\\\\",china_fname,sep=\"\")"
   ]
  },
  {
   "cell_type": "code",
   "execution_count": 90,
   "metadata": {},
   "outputs": [
    {
     "data": {
      "text/html": [
       "TRUE"
      ],
      "text/latex": [
       "TRUE"
      ],
      "text/markdown": [
       "TRUE"
      ],
      "text/plain": [
       "[1] TRUE"
      ]
     },
     "metadata": {},
     "output_type": "display_data"
    }
   ],
   "source": [
    "### Download and laod data on the administrative division of Chin\n",
    "# Download the zipped folder\n",
    "#download.file(china_url,paste(china_fname,\".zip\",sep=\"\"), mode = \"wb\")\n",
    "dir.create(china_fname)\n",
    "# Unzip the folder and get the names of its contents:\n",
    "files <- unzip(paste(china_fname,\".zip\",sep=\"\"),exdir=china_fname)\n",
    "# Removes the zipped folder:\n",
    "file.remove(paste(china_fname,\".zip\",sep=\"\"))"
   ]
  },
  {
   "cell_type": "code",
   "execution_count": 11,
   "metadata": {
    "scrolled": true
   },
   "outputs": [
    {
     "name": "stdout",
     "output_type": "stream",
     "text": [
      "OGR data source with driver: ESRI Shapefile \n",
      "Source: \"G:\\My Drive\\my_repositories\\PhD\\raw_data\\CHN_adm\", layer: \"CHN_adm0\"\n",
      "with 1 features\n",
      "It has 70 fields\n",
      "Integer64 fields read as strings:  ID_0 OBJECTID_1 \n"
     ]
    }
   ],
   "source": [
    "### Load the shapefile with the borders of China\n",
    "china <- readOGR(dsn = china_fname, layer = \"CHN_adm0\")"
   ]
  },
  {
   "cell_type": "code",
   "execution_count": 19,
   "metadata": {},
   "outputs": [],
   "source": [
    "### Create directories for subset data\n",
    "dir.create(path2clipped_china)\n",
    "dir.create(path2masked_china)"
   ]
  },
  {
   "cell_type": "code",
   "execution_count": 80,
   "metadata": {},
   "outputs": [],
   "source": [
    "### Subset data for China:\n",
    "\n",
    "\n",
    "for(i in 3:4){\n",
    "path2clipped<-paste(path2clipped_china,\"//\",crops[i],sep=\"\")\n",
    "dir.create(path2clipped)\n",
    "path2masked<-paste(path2masked_china,\"//\",crops[i],sep=\"\")\n",
    "dir.create(path2masked)\n",
    "# Crop the data to the extent of china\n",
    "clipped_prd<-crop(crop_data[[i]], extent(china), snap=\"out\") # Note that china has the same projection as the prd maps, so it does not need to be reprojected\n",
    "# Save clipped data as GeoTiffs:\n",
    "writeRaster(clipped_prd,filename=paste(path2clipped,\"//\",names(crop_data[[i]]) ,\".tif\",sep=\"\"),format=\"GTiff\", overwrite=TRUE,bylayer=TRUE)\n",
    "# Mask the data to the borders of China\n",
    "masked_prd<-mask(clipped_prd, china)\n",
    "# Saved masked data as GeoTiffs\n",
    "writeRaster(masked_prd,filename=paste(path2masked,\"//\",names(crop_data[[i]]),\".tif\",sep=\"\"),format=\"GTiff\", overwrite=TRUE,bylayer=TRUE)}"
   ]
  },
  {
   "cell_type": "code",
   "execution_count": 42,
   "metadata": {},
   "outputs": [],
   "source": [
    "masked_fnames<-paste(here(\"data\",\"production\",\"masked\"),\"/\",crops,sep=\"\")\n",
    "layers<-lapply(masked_fnames,list.files,pattern='tif$',full.names=TRUE)"
   ]
  },
  {
   "cell_type": "code",
   "execution_count": 43,
   "metadata": {},
   "outputs": [],
   "source": [
    "crop_data<-lapply(layers,stack)\n",
    "correct_layer<-crop_data[[1]][[3]]\n",
    "crop_data<-lapply(crop_data,function(x,correct_layer){ x[is.na(correct_layer)]<-NA \n",
    "                  return(x)},correct_layer)"
   ]
  },
  {
   "cell_type": "code",
   "execution_count": 44,
   "metadata": {},
   "outputs": [
    {
     "data": {
      "text/html": [
       "<style>\n",
       ".list-inline {list-style: none; margin:0; padding: 0}\n",
       ".list-inline>li {display: inline-block}\n",
       ".list-inline>li:not(:last-child)::after {content: \"\\00b7\"; padding: 0 .5ex}\n",
       "</style>\n",
       "<ol class=list-inline><li>'millet_DataQuality_HarvestedArea'</li><li>'millet_DataQuality_Yield'</li><li>'millet_HarvestedAreaFraction'</li><li>'millet_HarvestedAreaHectares'</li><li>'millet_Production'</li><li>'millet_YieldPerHectare'</li></ol>\n"
      ],
      "text/latex": [
       "\\begin{enumerate*}\n",
       "\\item 'millet\\_DataQuality\\_HarvestedArea'\n",
       "\\item 'millet\\_DataQuality\\_Yield'\n",
       "\\item 'millet\\_HarvestedAreaFraction'\n",
       "\\item 'millet\\_HarvestedAreaHectares'\n",
       "\\item 'millet\\_Production'\n",
       "\\item 'millet\\_YieldPerHectare'\n",
       "\\end{enumerate*}\n"
      ],
      "text/markdown": [
       "1. 'millet_DataQuality_HarvestedArea'\n",
       "2. 'millet_DataQuality_Yield'\n",
       "3. 'millet_HarvestedAreaFraction'\n",
       "4. 'millet_HarvestedAreaHectares'\n",
       "5. 'millet_Production'\n",
       "6. 'millet_YieldPerHectare'\n",
       "\n",
       "\n"
      ],
      "text/plain": [
       "[1] \"millet_DataQuality_HarvestedArea\" \"millet_DataQuality_Yield\"        \n",
       "[3] \"millet_HarvestedAreaFraction\"     \"millet_HarvestedAreaHectares\"    \n",
       "[5] \"millet_Production\"                \"millet_YieldPerHectare\"          "
      ]
     },
     "metadata": {},
     "output_type": "display_data"
    }
   ],
   "source": [
    "# Look at the existing names of the layers in the raster stack\n",
    "names(crop_data[[1]])\n",
    "# Create a list of more informative names\n",
    "prod_names <- c(\"Data quality: harvested area\",\"Data quality: yield\",\"Harvested area: fractional\",\"Harvested area: hectares\",\n",
    "            \"Production in tons\",\"Yield (tons per hectare)\")\n",
    "# Prepare the key from the census level of data quality layers (available from metadata pdf in a downloaded folder) \n",
    "census_level <-c(\"missing census data\",\"country level census data\",\"interpolated from within 2° lat/lon\",\"state level census data\",\"county level census data\")\n",
    "\n",
    "#Make a color palette for visualisation\n",
    "pal <- colorRampPalette(c(\"lightyellow\",\"orange\",\"orange3\",\"saddlebrown\"))\n",
    "\n",
    "# Set NA's to the cells that represent the seas in the data quality layers:\n",
    "#millet[[1]][is.na(millet[[3]])]<-NA\n",
    "#millet[[2]][is.na(millet[[3]])]<-NA\n",
    "\n",
    "#rice[is.na(millet[[3]])]<-NA"
   ]
  },
  {
   "cell_type": "code",
   "execution_count": 45,
   "metadata": {},
   "outputs": [
    {
     "name": "stdout",
     "output_type": "stream",
     "text": [
      "[1] 1\n",
      "[1] 2\n",
      "[1] 3\n",
      "[1] 4\n",
      "[1] 5\n"
     ]
    }
   ],
   "source": [
    "options(repr.plot.width=7,repr.plot.height=7,repr.plot.res=250)\n",
    "gmaps<-c()\n",
    "### Plot global production data\n",
    "for (i in 1:length(crops)){\n",
    "    print(i)\n",
    "# Make panels for the data quality:\n",
    "gprod1<-tm_shape(crop_data[[i]][[c(1,2)]]) + # Order the maps in a sensible way\n",
    "    tm_graticules(lwd = 0.05,col=\"grey75\",n.x=2,n.y=2,labels.size = 0.6)+ #Add the lat long lines\n",
    "    # Add raster layers:\n",
    "    tm_raster(labels=str_wrap(census_level,40),style=c(\"cat\",\"cat\"),palette=pal(4),legend.reverse = TRUE,title=\"\",interval.closure=\"left\",showNA=FALSE,colorNA=\"NA\",midpoint=NULL)+\n",
    "    # Make facets\n",
    "    tm_facets(free.scales=TRUE,free.coords=TRUE,ncol=2,nrow=1,free.scales.raster=TRUE)+\n",
    "    # Add continents outline\n",
    "    tm_shape(continents)+\n",
    "    tm_borders(col=\"grey85\")+\n",
    "    # Change theme\n",
    "    theme_tmaps+\n",
    "    # Change layout\n",
    "    tm_layout(panel.labels=prod_names[1:2], \n",
    "              panel.label.height=2,\n",
    "              panel.label.size=0.8,\n",
    "              legend.text.size=0.45,\n",
    "              legend.position=c(0,0.075),\n",
    "             )\n",
    "\n",
    "# Make panels for the production data:\n",
    "gprod2<-tm_shape(crop_data[[i]][[c(3,5,4,6)]]) + # Order the maps in a sensible way\n",
    "    tm_graticules(lwd = 0.05,col=\"grey75\",n.x=2,n.y=2,labels.size = 0.8)+ #Add the lat long lines\n",
    "    # Add raster layer:\n",
    "    tm_raster(style=c(\"cont\",\"cont\",\"cont\",\"cont\"),palette=pal(4),legend.reverse = TRUE,title=\"\",interval.closure=\"left\",showNA=FALSE,colorNA=\"NA\",midpoint=NULL)+\n",
    "    # Make facets\n",
    "    tm_facets(free.scales=TRUE,free.coords=TRUE,ncol=2,nrow=2,free.scales.raster=TRUE)+\n",
    "    # Add continents outline\n",
    "    tm_shape(continents)+\n",
    "    tm_borders(col=\"grey85\")+\n",
    "    theme_tmaps+\n",
    "    tm_layout(panel.labels=prod_names[c(3,5,4,6)],\n",
    "              legend.position=c(0,0),\n",
    "              panel.label.height=2,\n",
    "              panel.label.size=1,\n",
    "              legend.text.size=0.6\n",
    "             )+\n",
    "# Add info about the data projection\n",
    "tm_credits(\"Coordinate system: World Geodetic System 1984\\nData source: http://www.earthstat.org\",position=c(\"left\",\"bottom\"),)\n",
    "\n",
    "# Arrenge the maps together\n",
    "gprod<-tmap_arrange(gprod1, gprod2, heights=c(1/3,2/3))\n",
    "\n",
    "#Optional: plot the maps\n",
    "gmaps[[i]]<-gprod\n",
    "}"
   ]
  },
  {
   "cell_type": "code",
   "execution_count": null,
   "metadata": {},
   "outputs": [],
   "source": [
    "# Save the plot as ESM 4\n",
    "width=17.4\n",
    "height=17.4\n",
    "for(i in 1:length(crops)){\n",
    "tmap_save(tm = gmaps[[i]], filename = gprod_paths_local[i], width = width, height = height,units = \"cm\",dpi = 300)}"
   ]
  },
  {
   "cell_type": "markdown",
   "metadata": {},
   "source": [
    "### Environmental data"
   ]
  },
  {
   "cell_type": "code",
   "execution_count": 4,
   "metadata": {},
   "outputs": [
    {
     "data": {
      "text/html": [
       "TRUE"
      ],
      "text/latex": [
       "TRUE"
      ],
      "text/markdown": [
       "TRUE"
      ],
      "text/plain": [
       "[1] TRUE"
      ]
     },
     "metadata": {},
     "output_type": "display_data"
    }
   ],
   "source": [
    "### Preparing environmental data for 6 time slices from Mid-Holocene to the present:\n",
    "\n",
    "# Download the zipped folder\n",
    "download.file(env_url,paste(env_fname,\".zip\",sep=\"\"), mode = \"wb\")\n",
    "\n",
    "# Unzip the folder and get the names of its contents:\n",
    "files <- unzip(paste(env_fname,\".zip\",sep=\"\"), exdir=env_fname)\n",
    "\n",
    "# Removes the zipped folder:\n",
    "file.remove(paste(env_fname,\".zip\",sep=\"\"))"
   ]
  },
  {
   "cell_type": "code",
   "execution_count": 12,
   "metadata": {},
   "outputs": [],
   "source": [
    "files<-c(here(\"raw_data\",\"12293345\",\"LateQuaternary_Environment.nc\"))"
   ]
  },
  {
   "cell_type": "code",
   "execution_count": 25,
   "metadata": {},
   "outputs": [],
   "source": [
    "### Extract the relevant layers from NetCDF and saves them as raster:\n",
    "\n",
    "# Open the NetCDF, in order to get the names of the variables that are stored there and summarizes the time dimension of the data\n",
    "env_nc <- ncdf4::nc_open(files[1])\n",
    "# Extracts the availabe variable names:\n",
    "var_names <- names(env_nc$var)\n",
    "#Included only those relevant for the analysis\n",
    "short_names <-var_names[c(9,11:27)] \n",
    "# Define relevant time slices (past 8000 years + 15000 BP)\n",
    "timeslices<-read.csv(path2timeslices,row.names=1)\n",
    "timeslices<-as.numeric(gsub(\".BP\",\"\",gsub(\"X\",\"\",colnames(timeslices))))\n",
    "# Define the area to mask and crop the rasters by\n",
    "area<-china"
   ]
  },
  {
   "cell_type": "code",
   "execution_count": 28,
   "metadata": {},
   "outputs": [],
   "source": [
    "source(here(\"R\",\"extractRastersFromNetCDF.r\"))\n"
   ]
  },
  {
   "cell_type": "code",
   "execution_count": 29,
   "metadata": {},
   "outputs": [
    {
     "name": "stderr",
     "output_type": "stream",
     "text": [
      "Warning message in dir.create(paste(path2present, \"\\\\cropped\\\\\", sep = \"\")):\n",
      "\"'G:\\My Drive\\my_repositories\\PhD\\data\\environmental\\present\\cropped' already exists\"\n",
      "Warning message in dir.create(paste(path2present, \"\\\\masked\\\\\", sep = \"\")):\n",
      "\"'G:\\My Drive\\my_repositories\\PhD\\data\\environmental\\present\\masked' already exists\"\n",
      "Warning message in dir.create(path2layers):\n",
      "\"'G:\\My Drive\\my_repositories\\PhD\\data\\environmental\\past' already exists\"\n",
      "Warning message in dir.create(paste(path2layers, \"\\\\cropped\\\\\", variable, sep = \"\")):\n",
      "\"'G:\\My Drive\\my_repositories\\PhD\\data\\environmental\\past\\cropped\\npp' already exists\"\n",
      "Warning message in dir.create(paste(path2layers, \"\\\\masked\\\\\", variable, sep = \"\")):\n",
      "\"'G:\\My Drive\\my_repositories\\PhD\\data\\environmental\\past\\masked\\npp' already exists\"\n",
      "Warning message in dir.create(paste(path2present, \"\\\\cropped\\\\\", sep = \"\")):\n",
      "\"'G:\\My Drive\\my_repositories\\PhD\\data\\environmental\\present\\cropped' already exists\"\n",
      "Warning message in dir.create(paste(path2present, \"\\\\masked\\\\\", sep = \"\")):\n",
      "\"'G:\\My Drive\\my_repositories\\PhD\\data\\environmental\\present\\masked' already exists\"\n",
      "Warning message in dir.create(path2layers):\n",
      "\"'G:\\My Drive\\my_repositories\\PhD\\data\\environmental\\past' already exists\"\n",
      "Warning message in dir.create(paste(path2layers, \"\\\\cropped\\\\\", variable, sep = \"\")):\n",
      "\"'G:\\My Drive\\my_repositories\\PhD\\data\\environmental\\past\\cropped\\BIO1' already exists\"\n",
      "Warning message in dir.create(paste(path2layers, \"\\\\masked\\\\\", variable, sep = \"\")):\n",
      "\"'G:\\My Drive\\my_repositories\\PhD\\data\\environmental\\past\\masked\\BIO1' already exists\"\n",
      "Warning message in dir.create(paste(path2present, \"\\\\cropped\\\\\", sep = \"\")):\n",
      "\"'G:\\My Drive\\my_repositories\\PhD\\data\\environmental\\present\\cropped' already exists\"\n",
      "Warning message in dir.create(paste(path2present, \"\\\\masked\\\\\", sep = \"\")):\n",
      "\"'G:\\My Drive\\my_repositories\\PhD\\data\\environmental\\present\\masked' already exists\"\n",
      "Warning message in dir.create(path2layers):\n",
      "\"'G:\\My Drive\\my_repositories\\PhD\\data\\environmental\\past' already exists\"\n",
      "Warning message in dir.create(paste(path2layers, \"\\\\cropped\\\\\", variable, sep = \"\")):\n",
      "\"'G:\\My Drive\\my_repositories\\PhD\\data\\environmental\\past\\cropped\\BIO4' already exists\"\n",
      "Warning message in dir.create(paste(path2layers, \"\\\\masked\\\\\", variable, sep = \"\")):\n",
      "\"'G:\\My Drive\\my_repositories\\PhD\\data\\environmental\\past\\masked\\BIO4' already exists\"\n",
      "Warning message in dir.create(paste(path2present, \"\\\\cropped\\\\\", sep = \"\")):\n",
      "\"'G:\\My Drive\\my_repositories\\PhD\\data\\environmental\\present\\cropped' already exists\"\n",
      "Warning message in dir.create(paste(path2present, \"\\\\masked\\\\\", sep = \"\")):\n",
      "\"'G:\\My Drive\\my_repositories\\PhD\\data\\environmental\\present\\masked' already exists\"\n",
      "Warning message in dir.create(path2layers):\n",
      "\"'G:\\My Drive\\my_repositories\\PhD\\data\\environmental\\past' already exists\"\n",
      "Warning message in dir.create(paste(path2layers, \"\\\\cropped\\\\\", variable, sep = \"\")):\n",
      "\"'G:\\My Drive\\my_repositories\\PhD\\data\\environmental\\past\\cropped\\BIO5' already exists\"\n",
      "Warning message in dir.create(paste(path2layers, \"\\\\masked\\\\\", variable, sep = \"\")):\n",
      "\"'G:\\My Drive\\my_repositories\\PhD\\data\\environmental\\past\\masked\\BIO5' already exists\"\n",
      "Warning message in dir.create(paste(path2present, \"\\\\cropped\\\\\", sep = \"\")):\n",
      "\"'G:\\My Drive\\my_repositories\\PhD\\data\\environmental\\present\\cropped' already exists\"\n",
      "Warning message in dir.create(paste(path2present, \"\\\\masked\\\\\", sep = \"\")):\n",
      "\"'G:\\My Drive\\my_repositories\\PhD\\data\\environmental\\present\\masked' already exists\"\n",
      "Warning message in dir.create(path2layers):\n",
      "\"'G:\\My Drive\\my_repositories\\PhD\\data\\environmental\\past' already exists\"\n",
      "Warning message in dir.create(paste(path2layers, \"\\\\cropped\\\\\", variable, sep = \"\")):\n",
      "\"'G:\\My Drive\\my_repositories\\PhD\\data\\environmental\\past\\cropped\\BIO6' already exists\"\n",
      "Warning message in dir.create(paste(path2layers, \"\\\\masked\\\\\", variable, sep = \"\")):\n",
      "\"'G:\\My Drive\\my_repositories\\PhD\\data\\environmental\\past\\masked\\BIO6' already exists\"\n",
      "Warning message in dir.create(paste(path2present, \"\\\\cropped\\\\\", sep = \"\")):\n",
      "\"'G:\\My Drive\\my_repositories\\PhD\\data\\environmental\\present\\cropped' already exists\"\n",
      "Warning message in dir.create(paste(path2present, \"\\\\masked\\\\\", sep = \"\")):\n",
      "\"'G:\\My Drive\\my_repositories\\PhD\\data\\environmental\\present\\masked' already exists\"\n",
      "Warning message in dir.create(path2layers):\n",
      "\"'G:\\My Drive\\my_repositories\\PhD\\data\\environmental\\past' already exists\"\n",
      "Warning message in dir.create(paste(path2layers, \"\\\\cropped\\\\\", variable, sep = \"\")):\n",
      "\"'G:\\My Drive\\my_repositories\\PhD\\data\\environmental\\past\\cropped\\BIO7' already exists\"\n",
      "Warning message in dir.create(paste(path2layers, \"\\\\masked\\\\\", variable, sep = \"\")):\n",
      "\"'G:\\My Drive\\my_repositories\\PhD\\data\\environmental\\past\\masked\\BIO7' already exists\"\n",
      "Warning message in dir.create(paste(path2present, \"\\\\cropped\\\\\", sep = \"\")):\n",
      "\"'G:\\My Drive\\my_repositories\\PhD\\data\\environmental\\present\\cropped' already exists\"\n",
      "Warning message in dir.create(paste(path2present, \"\\\\masked\\\\\", sep = \"\")):\n",
      "\"'G:\\My Drive\\my_repositories\\PhD\\data\\environmental\\present\\masked' already exists\"\n",
      "Warning message in dir.create(path2layers):\n",
      "\"'G:\\My Drive\\my_repositories\\PhD\\data\\environmental\\past' already exists\"\n",
      "Warning message in dir.create(paste(path2layers, \"\\\\cropped\\\\\", variable, sep = \"\")):\n",
      "\"'G:\\My Drive\\my_repositories\\PhD\\data\\environmental\\past\\cropped\\BIO8' already exists\"\n",
      "Warning message in dir.create(paste(path2layers, \"\\\\masked\\\\\", variable, sep = \"\")):\n",
      "\"'G:\\My Drive\\my_repositories\\PhD\\data\\environmental\\past\\masked\\BIO8' already exists\"\n",
      "Warning message in dir.create(paste(path2present, \"\\\\cropped\\\\\", sep = \"\")):\n",
      "\"'G:\\My Drive\\my_repositories\\PhD\\data\\environmental\\present\\cropped' already exists\"\n",
      "Warning message in dir.create(paste(path2present, \"\\\\masked\\\\\", sep = \"\")):\n",
      "\"'G:\\My Drive\\my_repositories\\PhD\\data\\environmental\\present\\masked' already exists\"\n",
      "Warning message in dir.create(path2layers):\n",
      "\"'G:\\My Drive\\my_repositories\\PhD\\data\\environmental\\past' already exists\"\n",
      "Warning message in dir.create(paste(path2layers, \"\\\\cropped\\\\\", variable, sep = \"\")):\n",
      "\"'G:\\My Drive\\my_repositories\\PhD\\data\\environmental\\past\\cropped\\BIO9' already exists\"\n",
      "Warning message in dir.create(paste(path2layers, \"\\\\masked\\\\\", variable, sep = \"\")):\n",
      "\"'G:\\My Drive\\my_repositories\\PhD\\data\\environmental\\past\\masked\\BIO9' already exists\"\n",
      "Warning message in dir.create(paste(path2present, \"\\\\cropped\\\\\", sep = \"\")):\n",
      "\"'G:\\My Drive\\my_repositories\\PhD\\data\\environmental\\present\\cropped' already exists\"\n",
      "Warning message in dir.create(paste(path2present, \"\\\\masked\\\\\", sep = \"\")):\n",
      "\"'G:\\My Drive\\my_repositories\\PhD\\data\\environmental\\present\\masked' already exists\"\n",
      "Warning message in dir.create(path2layers):\n",
      "\"'G:\\My Drive\\my_repositories\\PhD\\data\\environmental\\past' already exists\"\n",
      "Warning message in dir.create(paste(path2layers, \"\\\\cropped\\\\\", variable, sep = \"\")):\n",
      "\"'G:\\My Drive\\my_repositories\\PhD\\data\\environmental\\past\\cropped\\BIO10' already exists\"\n",
      "Warning message in dir.create(paste(path2layers, \"\\\\masked\\\\\", variable, sep = \"\")):\n",
      "\"'G:\\My Drive\\my_repositories\\PhD\\data\\environmental\\past\\masked\\BIO10' already exists\"\n",
      "Warning message in dir.create(paste(path2present, \"\\\\cropped\\\\\", sep = \"\")):\n",
      "\"'G:\\My Drive\\my_repositories\\PhD\\data\\environmental\\present\\cropped' already exists\"\n",
      "Warning message in dir.create(paste(path2present, \"\\\\masked\\\\\", sep = \"\")):\n",
      "\"'G:\\My Drive\\my_repositories\\PhD\\data\\environmental\\present\\masked' already exists\"\n",
      "Warning message in dir.create(path2layers):\n",
      "\"'G:\\My Drive\\my_repositories\\PhD\\data\\environmental\\past' already exists\"\n",
      "Warning message in dir.create(paste(path2layers, \"\\\\cropped\\\\\", variable, sep = \"\")):\n",
      "\"'G:\\My Drive\\my_repositories\\PhD\\data\\environmental\\past\\cropped\\BIO11' already exists\"\n",
      "Warning message in dir.create(paste(path2layers, \"\\\\masked\\\\\", variable, sep = \"\")):\n",
      "\"'G:\\My Drive\\my_repositories\\PhD\\data\\environmental\\past\\masked\\BIO11' already exists\"\n",
      "Warning message in dir.create(paste(path2present, \"\\\\cropped\\\\\", sep = \"\")):\n",
      "\"'G:\\My Drive\\my_repositories\\PhD\\data\\environmental\\present\\cropped' already exists\"\n",
      "Warning message in dir.create(paste(path2present, \"\\\\masked\\\\\", sep = \"\")):\n",
      "\"'G:\\My Drive\\my_repositories\\PhD\\data\\environmental\\present\\masked' already exists\"\n"
     ]
    },
    {
     "name": "stderr",
     "output_type": "stream",
     "text": [
      "Warning message in dir.create(path2layers):\n",
      "\"'G:\\My Drive\\my_repositories\\PhD\\data\\environmental\\past' already exists\"\n",
      "Warning message in dir.create(paste(path2layers, \"\\\\cropped\\\\\", variable, sep = \"\")):\n",
      "\"'G:\\My Drive\\my_repositories\\PhD\\data\\environmental\\past\\cropped\\BIO12' already exists\"\n",
      "Warning message in dir.create(paste(path2layers, \"\\\\masked\\\\\", variable, sep = \"\")):\n",
      "\"'G:\\My Drive\\my_repositories\\PhD\\data\\environmental\\past\\masked\\BIO12' already exists\"\n",
      "Warning message in dir.create(paste(path2present, \"\\\\cropped\\\\\", sep = \"\")):\n",
      "\"'G:\\My Drive\\my_repositories\\PhD\\data\\environmental\\present\\cropped' already exists\"\n",
      "Warning message in dir.create(paste(path2present, \"\\\\masked\\\\\", sep = \"\")):\n",
      "\"'G:\\My Drive\\my_repositories\\PhD\\data\\environmental\\present\\masked' already exists\"\n",
      "Warning message in dir.create(path2layers):\n",
      "\"'G:\\My Drive\\my_repositories\\PhD\\data\\environmental\\past' already exists\"\n",
      "Warning message in dir.create(paste(path2layers, \"\\\\cropped\\\\\", variable, sep = \"\")):\n",
      "\"'G:\\My Drive\\my_repositories\\PhD\\data\\environmental\\past\\cropped\\BIO13' already exists\"\n",
      "Warning message in dir.create(paste(path2layers, \"\\\\masked\\\\\", variable, sep = \"\")):\n",
      "\"'G:\\My Drive\\my_repositories\\PhD\\data\\environmental\\past\\masked\\BIO13' already exists\"\n",
      "Warning message in dir.create(paste(path2present, \"\\\\cropped\\\\\", sep = \"\")):\n",
      "\"'G:\\My Drive\\my_repositories\\PhD\\data\\environmental\\present\\cropped' already exists\"\n",
      "Warning message in dir.create(paste(path2present, \"\\\\masked\\\\\", sep = \"\")):\n",
      "\"'G:\\My Drive\\my_repositories\\PhD\\data\\environmental\\present\\masked' already exists\"\n",
      "Warning message in dir.create(path2layers):\n",
      "\"'G:\\My Drive\\my_repositories\\PhD\\data\\environmental\\past' already exists\"\n",
      "Warning message in dir.create(paste(path2layers, \"\\\\cropped\\\\\", variable, sep = \"\")):\n",
      "\"'G:\\My Drive\\my_repositories\\PhD\\data\\environmental\\past\\cropped\\BIO14' already exists\"\n",
      "Warning message in dir.create(paste(path2layers, \"\\\\masked\\\\\", variable, sep = \"\")):\n",
      "\"'G:\\My Drive\\my_repositories\\PhD\\data\\environmental\\past\\masked\\BIO14' already exists\"\n",
      "Warning message in dir.create(paste(path2present, \"\\\\cropped\\\\\", sep = \"\")):\n",
      "\"'G:\\My Drive\\my_repositories\\PhD\\data\\environmental\\present\\cropped' already exists\"\n",
      "Warning message in dir.create(paste(path2present, \"\\\\masked\\\\\", sep = \"\")):\n",
      "\"'G:\\My Drive\\my_repositories\\PhD\\data\\environmental\\present\\masked' already exists\"\n",
      "Warning message in dir.create(path2layers):\n",
      "\"'G:\\My Drive\\my_repositories\\PhD\\data\\environmental\\past' already exists\"\n",
      "Warning message in dir.create(paste(path2layers, \"\\\\cropped\\\\\", variable, sep = \"\")):\n",
      "\"'G:\\My Drive\\my_repositories\\PhD\\data\\environmental\\past\\cropped\\BIO15' already exists\"\n",
      "Warning message in dir.create(paste(path2layers, \"\\\\masked\\\\\", variable, sep = \"\")):\n",
      "\"'G:\\My Drive\\my_repositories\\PhD\\data\\environmental\\past\\masked\\BIO15' already exists\"\n",
      "Warning message in dir.create(paste(path2present, \"\\\\cropped\\\\\", sep = \"\")):\n",
      "\"'G:\\My Drive\\my_repositories\\PhD\\data\\environmental\\present\\cropped' already exists\"\n",
      "Warning message in dir.create(paste(path2present, \"\\\\masked\\\\\", sep = \"\")):\n",
      "\"'G:\\My Drive\\my_repositories\\PhD\\data\\environmental\\present\\masked' already exists\"\n",
      "Warning message in dir.create(path2layers):\n",
      "\"'G:\\My Drive\\my_repositories\\PhD\\data\\environmental\\past' already exists\"\n",
      "Warning message in dir.create(paste(path2layers, \"\\\\cropped\\\\\", variable, sep = \"\")):\n",
      "\"'G:\\My Drive\\my_repositories\\PhD\\data\\environmental\\past\\cropped\\BIO16' already exists\"\n",
      "Warning message in dir.create(paste(path2layers, \"\\\\masked\\\\\", variable, sep = \"\")):\n",
      "\"'G:\\My Drive\\my_repositories\\PhD\\data\\environmental\\past\\masked\\BIO16' already exists\"\n",
      "Warning message in dir.create(paste(path2present, \"\\\\cropped\\\\\", sep = \"\")):\n",
      "\"'G:\\My Drive\\my_repositories\\PhD\\data\\environmental\\present\\cropped' already exists\"\n",
      "Warning message in dir.create(paste(path2present, \"\\\\masked\\\\\", sep = \"\")):\n",
      "\"'G:\\My Drive\\my_repositories\\PhD\\data\\environmental\\present\\masked' already exists\"\n",
      "Warning message in dir.create(path2layers):\n",
      "\"'G:\\My Drive\\my_repositories\\PhD\\data\\environmental\\past' already exists\"\n",
      "Warning message in dir.create(paste(path2layers, \"\\\\cropped\\\\\", variable, sep = \"\")):\n",
      "\"'G:\\My Drive\\my_repositories\\PhD\\data\\environmental\\past\\cropped\\BIO17' already exists\"\n",
      "Warning message in dir.create(paste(path2layers, \"\\\\masked\\\\\", variable, sep = \"\")):\n",
      "\"'G:\\My Drive\\my_repositories\\PhD\\data\\environmental\\past\\masked\\BIO17' already exists\"\n",
      "Warning message in dir.create(paste(path2present, \"\\\\cropped\\\\\", sep = \"\")):\n",
      "\"'G:\\My Drive\\my_repositories\\PhD\\data\\environmental\\present\\cropped' already exists\"\n",
      "Warning message in dir.create(paste(path2present, \"\\\\masked\\\\\", sep = \"\")):\n",
      "\"'G:\\My Drive\\my_repositories\\PhD\\data\\environmental\\present\\masked' already exists\"\n",
      "Warning message in dir.create(path2layers):\n",
      "\"'G:\\My Drive\\my_repositories\\PhD\\data\\environmental\\past' already exists\"\n",
      "Warning message in dir.create(paste(path2layers, \"\\\\cropped\\\\\", variable, sep = \"\")):\n",
      "\"'G:\\My Drive\\my_repositories\\PhD\\data\\environmental\\past\\cropped\\BIO18' already exists\"\n",
      "Warning message in dir.create(paste(path2layers, \"\\\\masked\\\\\", variable, sep = \"\")):\n",
      "\"'G:\\My Drive\\my_repositories\\PhD\\data\\environmental\\past\\masked\\BIO18' already exists\"\n",
      "Warning message in dir.create(paste(path2present, \"\\\\cropped\\\\\", sep = \"\")):\n",
      "\"'G:\\My Drive\\my_repositories\\PhD\\data\\environmental\\present\\cropped' already exists\"\n",
      "Warning message in dir.create(paste(path2present, \"\\\\masked\\\\\", sep = \"\")):\n",
      "\"'G:\\My Drive\\my_repositories\\PhD\\data\\environmental\\present\\masked' already exists\"\n",
      "Warning message in dir.create(path2layers):\n",
      "\"'G:\\My Drive\\my_repositories\\PhD\\data\\environmental\\past' already exists\"\n",
      "Warning message in dir.create(paste(path2layers, \"\\\\cropped\\\\\", variable, sep = \"\")):\n",
      "\"'G:\\My Drive\\my_repositories\\PhD\\data\\environmental\\past\\cropped\\BIO19' already exists\"\n",
      "Warning message in dir.create(paste(path2layers, \"\\\\masked\\\\\", variable, sep = \"\")):\n",
      "\"'G:\\My Drive\\my_repositories\\PhD\\data\\environmental\\past\\masked\\BIO19' already exists\"\n"
     ]
    }
   ],
   "source": [
    "# Extract the relevant layers from the NetCDF file, using the utility function provided in this repository\n",
    "bricks<-lapply(short_names,extractRastersFromNetCDF,path2file=files[1],timeslice=timeslices[11:15],area=area,path2layers=path2past_env,\n",
    "       path2present=path2present_env,crop=TRUE,mask=TRUE )"
   ]
  },
  {
   "cell_type": "code",
   "execution_count": 67,
   "metadata": {},
   "outputs": [],
   "source": [
    "variable<-short_names[1]\n",
    "timeslice=timeslices\n",
    "area=area\n",
    "path2file=files[1]\n",
    "path2layers=path2past_env\n",
    "path2present=path2present_env"
   ]
  },
  {
   "cell_type": "code",
   "execution_count": 36,
   "metadata": {},
   "outputs": [],
   "source": [
    "r <- brick(path2file,varname = variable)\n"
   ]
  },
  {
   "cell_type": "code",
   "execution_count": 71,
   "metadata": {},
   "outputs": [],
   "source": [
    "### Additionally, prepare the table with the shortcuts of environmental variables and their full names\n",
    "full_name <-c(\"Net Primary Production\",'BIO1 Annual Mean Temperature',\n",
    "              'BIO4 Temperature Seasonality', \n",
    "              'BIO5 Max Temperature of Warmest Month',\n",
    "              'BIO6 Min Temperature of Coldest Month', \n",
    "              'BIO7 Temperature Annual Range', \n",
    "              'BIO8 Mean Temperature of Wettest Quarter',\n",
    "              'BIO9 Mean Temperature of Driest Quarter',\n",
    "              'BIO10 Mean Temperature of Warmest Quarter', \n",
    "              'BIO11 Mean Temperature of Coldest Quarter', \n",
    "              'BIO12 Annual Precipitation', \n",
    "              'BIO13 Precipitation of Wettest Month', \n",
    "              'BIO14 Precipitation of Driest Month',\n",
    "              'BIO15 Precipitation Seasonality',\n",
    "              'BIO16 Precipitation of Wettest Quarter',\n",
    "              'BIO17 Precipitation of Driest Quarter', \n",
    "              'BIO18 Precipitation of Warmest Quarter',\n",
    "              'BIO19 Precipitation of Coldest Quarter')\n",
    "env_table <- cbind(short_names, full_name)\n",
    "\n",
    "# Write the names of environmental variables to a csv file for future reference\n",
    "write.csv(env_table, file=path2env_table,row.names=FALSE)"
   ]
  }
 ],
 "metadata": {
  "kernelspec": {
   "display_name": "R",
   "language": "R",
   "name": "ir"
  },
  "language_info": {
   "codemirror_mode": "r",
   "file_extension": ".r",
   "mimetype": "text/x-r-source",
   "name": "R",
   "pygments_lexer": "r",
   "version": "4.0.3"
  }
 },
 "nbformat": 4,
 "nbformat_minor": 4
}
