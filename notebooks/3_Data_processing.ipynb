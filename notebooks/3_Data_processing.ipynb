{
 "cells": [
  {
   "cell_type": "markdown",
   "metadata": {},
   "source": [
    "# Data preparation\n",
    "\n",
    "This code transform the data into an appropriate format for stan model. First, it aggregates and standardises the values of environmental variables and data on buckwheat production for each county in China, and saves it into a csv file. It also merges the environmental data with the spatail polygons for counties, to show the values on the plots. Then it caluclates and saves the adjacency matrix for counties in Chinese to be used in iCAR model."
   ]
  },
  {
   "cell_type": "code",
   "execution_count": null,
   "metadata": {},
   "outputs": [],
   "source": [
    "# Load libraries:\n",
    "library(rgdal) # working with spatial data\n",
    "library(raster) # working with later layers\n",
    "library(data.table) # working with data frames\n",
    "library(spdep) # calculating the adjacency matrix\n",
    "require(geosphere) # calculating polygon area\n",
    "library(here) # setting paths\n",
    "library(viridis) # for colour schemes visualisation\n",
    "library(RColorBrewer) # for colours on the plots\n",
    "library(tmap) # for thematic mapping"
   ]
  },
  {
   "cell_type": "code",
   "execution_count": 2,
   "metadata": {},
   "outputs": [],
   "source": [
    "### Set the paths for loading data\n",
    "\n",
    "# Masked data on buckwheat production in China (masked to keep the data consistent:\n",
    "path2prd<-here(\"data\",\"production\",\"masked\")\n",
    "\n",
    "# Environmental variables (cropped, because the border cells will have a consistent quality:\n",
    "path2env <-here(\"data\",\"environmental\",\"present\",\"masked\")\n",
    "\n",
    "# Path to past environmental data:\n",
    "path2past <- here(\"data\",\"environmental\",\"past\")\n",
    "\n",
    "# Path to counties in China:\n",
    "path2counties<-here(\"raw_data\",\"CHN_adm\")\n",
    "\n",
    "# Path to full names of environmental variables:\n",
    "\n",
    "path2env_table<-here(\"outputs\",\"01_01_Predictor_variables.csv\")\n",
    "\n",
    "### Set the paths for outputs:\n",
    "path2prd_table<-here(\"data\",\"production\",\"by_county\")\n",
    "path2env_counties<-here(\"data\",\"Env_by_county.csv\")\n",
    "path2envMaps<-here(\"outputs\",\"ESM_12a.tiff\")\n",
    "path2envMapsAE<-here(\"outputs\",\"ESM_12\")\n",
    "path2stats<- here(\"outputs\",\"03_01_Env_Mean_and_SD.csv\")\n",
    "path2env_sd<- here(\"data\",\"Sd_Env_by_county.csv\")\n",
    "path2prd_counties<-here(\"data\",\"Prd_by_county.csv\")\n",
    "path2adjacency <- here(\"data\",\"adjacency.csv\")"
   ]
  },
  {
   "cell_type": "code",
   "execution_count": 3,
   "metadata": {},
   "outputs": [],
   "source": [
    "### Load theme for plotting maps\n",
    "source(here(\"R\",\"theme_tmaps.R\"))"
   ]
  },
  {
   "cell_type": "code",
   "execution_count": 4,
   "metadata": {},
   "outputs": [
    {
     "name": "stdout",
     "output_type": "stream",
     "text": [
      "OGR data source with driver: ESRI Shapefile \n",
      "Source: \"G:\\My Drive\\my_repositories\\PhD\\raw_data\\CHN_adm\", layer: \"CHN_adm3\"\n",
      "with 2409 features\n",
      "It has 13 fields\n",
      "Integer64 fields read as strings:  ID_0 ID_1 ID_2 ID_3 \n",
      "OGR data source with driver: ESRI Shapefile \n",
      "Source: \"G:\\My Drive\\my_repositories\\PhD\\raw_data\\CHN_adm\", layer: \"CHN_adm0\"\n",
      "with 1 features\n",
      "It has 70 fields\n",
      "Integer64 fields read as strings:  ID_0 OBJECTID_1 \n"
     ]
    }
   ],
   "source": [
    "### Loading data:\n",
    "\n",
    "# Get vector map of counties in China\n",
    "china<-readOGR(dsn = path2counties, layer = \"CHN_adm3\")\n",
    "\n",
    "# Get outer border of China\n",
    "outer_border<-readOGR(dsn = path2counties, layer = \"CHN_adm0\")"
   ]
  },
  {
   "cell_type": "code",
   "execution_count": 5,
   "metadata": {},
   "outputs": [],
   "source": [
    "crop_data<-c()\n",
    "crops<-c(\"wheat\",\"barley\")\n",
    "for(i in 1:2){\n",
    "path2prod<-paste(path2prd,\"//\",crops[i],sep=\"\")\n",
    "# Get production dataset for China:\n",
    "prd_layers<-list.files(path=path2prod,pattern='tif$',full.names=TRUE)\n",
    "prd<-stack(prd_layers)\n",
    "crop_data[[i]]<-prd}"
   ]
  },
  {
   "cell_type": "markdown",
   "metadata": {},
   "source": [
    "### Get production data by county in the table"
   ]
  },
  {
   "cell_type": "code",
   "execution_count": 7,
   "metadata": {},
   "outputs": [
    {
     "name": "stdout",
     "output_type": "stream",
     "text": [
      "[1] \"wheat\"\n"
     ]
    },
    {
     "name": "stderr",
     "output_type": "stream",
     "text": [
      "Warning message in .local(x, y, ...):\n",
      "\"\"fun\" was changed to \"mean\"; other functions cannot be used when \"weights=TRUE\"\"\n"
     ]
    }
   ],
   "source": [
    "# Get county areas:\n",
    "area <- areaPolygon(china)\n",
    "i=1\n",
    "for (i in 1:1){\n",
    "    print(crops[i])\n",
    "    # Get data quality per county\n",
    "    prd<-crop_data[[i]]\n",
    "\n",
    "    # Get the most frequent data quality\n",
    "    r.mean.dq <- extract(prd[[grep(\"DataQuality\",names(prd))]],china,\n",
    "                     fun=function(x,na.rm){return(sort(x,decreasing=TRUE,na.last=na.rm)[1])},na.rm=TRUE,df=TRUE)\n",
    "\n",
    "    #Get weighted mean of yield per hectare and harvested area fraction per county\n",
    "    r.mean.pr <- extract(prd[[paste(crops[i],c(\"YieldPerHectare\",\"HarvestedAreaFraction\"),sep=\"_\")]],china,\n",
    "                     fun=\"mean\",na.rm=TRUE,weights=TRUE,normalizeWeights=TRUE,df=TRUE)\n",
    "\n",
    "    # Get totrals for the production and harvested area for each county\n",
    "    r.sum.pr <- extract(prd[[paste(crops[i],c(\"HarvestedAreaHectares\",\"Production\"),sep=\"_\")]],china,weights=TRUE,normalizeWeights=FALSE,na.rm=TRUE)\n",
    "\n",
    "    # Sum the toals of harvester area hectares and tonnes of production\n",
    "    r.sum.pr<-lapply(r.sum.pr,as.data.frame)\n",
    "    r.sum.pr<-lapply(r.sum.pr,function(x){\n",
    "        HarvestedAreaHectares<-x$weight*x[paste(crops[i],\"HarvestedAreaHectares\",sep=\"_\")]\n",
    "        Production<-x$weight*x[paste(crops[i],\"Production\",sep=\"_\")]\n",
    "        x<-data.frame(HarvestedAreaHectares=sum(HarvestedAreaHectares, na.rm=TRUE),Production=sum(Production,na.rm=TRUE))\n",
    "        return(x)    \n",
    "    })\n",
    "    r.sum.pr<-rbindlist(r.sum.pr)\n",
    "\n",
    "    # Bind all the extracted data into one table\n",
    "    r.values<-cbind(r.mean.dq,r.mean.pr[,-1],r.sum.pr,area)\n",
    "    colnames(r.values)<-gsub(paste(crops[i],\"_\",sep=\"\"),\"\",colnames(r.values))\n",
    "\n",
    "    ### Get the proportion of area which is cultivated, by dividing the cultivated area in hectares for the county, by the area of \n",
    "    ### the county. Area is given in square meters, and cultivated area in hectares, so multiply by 10 000.\n",
    "    r.values$ProportionAreaCultivated<-(as.numeric(as.character(r.values$HarvestedAreaHectares))/r.values$area)*10000\n",
    "\n",
    "    ### Get the average produciont of buckwheat in tonnes, per hectar of a county\n",
    "    r.values$ProductionPerHectare<-(as.numeric(as.character(r.values$Production))/r.values$area)*10000\n",
    "\n",
    "    r.values$logProportionAreaCultivated <- log(r.values$ProportionAreaCultivated+1e-12 )\n",
    "    r.values$logProductionPerHectare <- log(r.values$ProductionPerHectare+1e-12)\n",
    "    \n",
    "    # Write data to a file:\n",
    "\n",
    "    write.csv(r.values,paste(path2prd_table,\"//\",crops[i],\".csv\",sep=\"\"),row.names=FALSE)}"
   ]
  }
 ],
 "metadata": {
  "kernelspec": {
   "display_name": "R",
   "language": "R",
   "name": "ir"
  },
  "language_info": {
   "codemirror_mode": "r",
   "file_extension": ".r",
   "mimetype": "text/x-r-source",
   "name": "R",
   "pygments_lexer": "r",
   "version": "4.0.3"
  }
 },
 "nbformat": 4,
 "nbformat_minor": 4
}
