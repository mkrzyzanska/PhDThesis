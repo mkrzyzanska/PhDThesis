{
 "cells": [
  {
   "cell_type": "code",
   "execution_count": 129,
   "metadata": {},
   "outputs": [],
   "source": [
    "### Load libraries\n",
    "library(here)\n",
    "library(rgeos)\n",
    "library(geosphere)\n",
    "library(rgdal)\n",
    "library(\"ggplot2\")\n",
    "library(\"tidyr\")\n",
    "library(raster) # for crs\n",
    "library(ggbeeswarm)\n",
    "library(tmap)\n",
    "library(sf)\n",
    "library(stringr)\n",
    "library(scales)\n",
    "library(\"ggrepel\")"
   ]
  },
  {
   "cell_type": "code",
   "execution_count": 2,
   "metadata": {},
   "outputs": [],
   "source": [
    "### Define paths\n",
    "\n",
    "# Define imputs paths:\n",
    "\n",
    "# Admnistrative map of China\n",
    "path2china<-here('raw_data','CHN_adm')\n",
    "path2out<-here(\"outputs\")\n",
    "\n",
    "# Archaeological records location data\n",
    "path2buckwheat<-here(\"data\",\"ESM_2.csv\") # Buckwheat's occurrence records\n",
    "path2locations<-here(\"data\",\"site_locations.csv\")\n",
    "\n",
    "# Production and predictions data\n",
    "path2predictions <- here(\"outputs\",\"predictions\")"
   ]
  },
  {
   "cell_type": "code",
   "execution_count": 86,
   "metadata": {},
   "outputs": [],
   "source": [
    "# Define output paths:\n",
    "\n",
    "path2outputs<-here(\"manuscript\",\"Chapter7\",\"Figs\",\"Raster\")"
   ]
  },
  {
   "cell_type": "code",
   "execution_count": 3,
   "metadata": {},
   "outputs": [],
   "source": [
    "crop=\"millet\""
   ]
  },
  {
   "cell_type": "code",
   "execution_count": 143,
   "metadata": {},
   "outputs": [
    {
     "name": "stdout",
     "output_type": "stream",
     "text": [
      "Reading layer `ne_50m_rivers_lake_centerlines' from data source `G:\\My Drive\\my_repositories\\PhD\\raw_data\\ne_50m_rivers_lake_centerlines' using driver `ESRI Shapefile'\n",
      "Simple feature collection with 478 features and 36 fields (with 1 geometry empty)\n",
      "geometry type:  MULTILINESTRING\n",
      "dimension:      XY\n",
      "bbox:           xmin: -165.2439 ymin: -50.24014 xmax: 176.3258 ymax: 73.3349\n",
      "geographic CRS: WGS 84\n",
      "Reading layer `ne_110m_rivers_lake_centerlines' from data source `G:\\My Drive\\my_repositories\\PhD\\raw_data\\ne_110m_rivers_lake_centerlines' using driver `ESRI Shapefile'\n",
      "Simple feature collection with 13 features and 35 fields\n",
      "geometry type:  LINESTRING\n",
      "dimension:      XY\n",
      "bbox:           xmin: -135.3134 ymin: -33.99358 xmax: 129.956 ymax: 72.90651\n",
      "geographic CRS: WGS 84\n"
     ]
    }
   ],
   "source": [
    "rivers<-st_read(dsn=here(\"raw_data\",\"ne_50m_rivers_lake_centerlines\"),layer='ne_50m_rivers_lake_centerlines')\n",
    "rivers2<-st_read(dsn=here(\"raw_data\",\"ne_110m_rivers_lake_centerlines\"),layer='ne_110m_rivers_lake_centerlines')\n",
    "\n"
   ]
  },
  {
   "cell_type": "code",
   "execution_count": null,
   "metadata": {},
   "outputs": [],
   "source": [
    "outer_border<-st_read(dsn=path2china,layer='CHN_adm0')\n",
    "posterior <-read.csv(paste(path2predictions,\"/\",crop,\"_posterior_predictions_summary.csv\",sep=\"\"))"
   ]
  },
  {
   "cell_type": "code",
   "execution_count": null,
   "metadata": {},
   "outputs": [],
   "source": [
    "rivers<-st_read(dsn=path2china,layer='CHN_adm1')"
   ]
  },
  {
   "cell_type": "code",
   "execution_count": 6,
   "metadata": {},
   "outputs": [
    {
     "name": "stdout",
     "output_type": "stream",
     "text": [
      "Reading layer `CHN_adm0' from data source `G:\\My Drive\\my_repositories\\PhD\\raw_data\\CHN_adm' using driver `ESRI Shapefile'\n",
      "Simple feature collection with 1 feature and 70 fields\n",
      "geometry type:  MULTIPOLYGON\n",
      "dimension:      XY\n",
      "bbox:           xmin: 73.5577 ymin: 18.15931 xmax: 134.7739 ymax: 53.56086\n",
      "geographic CRS: WGS 84\n",
      "OGR data source with driver: ESRI Shapefile \n",
      "Source: \"G:\\My Drive\\my_repositories\\PhD\\raw_data\\CHN_adm\", layer: \"CHN_adm3\"\n",
      "with 2409 features\n",
      "It has 13 fields\n",
      "Integer64 fields read as strings:  ID_0 ID_1 ID_2 ID_3 \n"
     ]
    }
   ],
   "source": [
    "# Import the outer border of China\n",
    "outer_border<-st_read(dsn=path2china,layer='CHN_adm0')\n",
    "# Import the spatial polygons data frame of counties:\n",
    "china<-readOGR(dsn=path2china,layer='CHN_adm3')\n",
    "# Import production data"
   ]
  },
  {
   "cell_type": "code",
   "execution_count": 7,
   "metadata": {},
   "outputs": [
    {
     "name": "stdout",
     "output_type": "stream",
     "text": [
      "'data.frame':\t2409 obs. of  13 variables:\n",
      " $ ID_0     : chr  \"49\" \"49\" \"49\" \"49\" ...\n",
      " $ ISO      : chr  \"CHN\" \"CHN\" \"CHN\" \"CHN\" ...\n",
      " $ NAME_0   : chr  \"China\" \"China\" \"China\" \"China\" ...\n",
      " $ ID_1     : chr  \"1\" \"1\" \"1\" \"1\" ...\n",
      " $ NAME_1   : chr  \"Anhui\" \"Anhui\" \"Anhui\" \"Anhui\" ...\n",
      " $ ID_2     : chr  \"1\" \"1\" \"1\" \"1\" ...\n",
      " $ NAME_2   : chr  \"Anqing\" \"Anqing\" \"Anqing\" \"Anqing\" ...\n",
      " $ ID_3     : chr  \"1\" \"2\" \"3\" \"4\" ...\n",
      " $ NAME_3   : chr  \"Anqing\" \"Huaining\" \"Qianshan\" \"Susong\" ...\n",
      " $ TYPE_3   : chr  \"XiÃ njÃ­shÃ¬\" \"XiÃ n\" \"XiÃ n\" \"XiÃ n\" ...\n",
      " $ ENGTYPE_3: chr  \"County City\" \"County\" \"County\" \"County\" ...\n",
      " $ NL_NAME_3: chr  NA \"æ\\200\\200å®\\201åŽ¿\" \"æ½œå±±åŽ¿\" \"å®¿æ\\235¾åŽ¿\" ...\n",
      " $ VARNAME_3: chr  NA \"HuÃ¡inÃ­ng\" \"QiÃ¡nshÄ\\201n\" \"SÃ¹sÅ\\215ng\" ...\n"
     ]
    }
   ],
   "source": [
    "str(china@data)"
   ]
  },
  {
   "cell_type": "code",
   "execution_count": 8,
   "metadata": {},
   "outputs": [],
   "source": [
    "crop<-\"millet\""
   ]
  },
  {
   "cell_type": "code",
   "execution_count": 9,
   "metadata": {},
   "outputs": [
    {
     "name": "stdout",
     "output_type": "stream",
     "text": [
      "[1] \"millet\"\n"
     ]
    }
   ],
   "source": [
    " print(crop)\n",
    "    path2pred_summary<-paste(path2predictions,\"/\",crop,\"_predictions.csv\",sep=\"\")\n",
    "    pred_summary<-read.csv(path2pred_summary,row.names=1)\n",
    "\n",
    "    ### Get the log means predictions, 0.05, and 0.95 quantiles for each county in a separate variables\n",
    "    mean_names<-colnames(pred_summary)[grepl(\"log\",colnames(pred_summary))&grepl(\"mean\",colnames(pred_summary))]\n",
    "    mean<-pred_summary[,colnames(pred_summary)[grepl(\"log\",colnames(pred_summary))&grepl(\"mean\",colnames(pred_summary))]]\n",
    "    q5_names<-colnames(pred_summary)[grepl(\"log\",colnames(pred_summary))&grepl(\"X5\",colnames(pred_summary))]\n",
    "    q5<-pred_summary[,colnames(pred_summary)[grepl(\"log\",colnames(pred_summary))&grepl(\"X5\",colnames(pred_summary))]]\n",
    "    q95_names<-colnames(pred_summary)[grepl(\"log\",colnames(pred_summary))&grepl(\"X95\",colnames(pred_summary))]\n",
    "    q95<-pred_summary[,colnames(pred_summary)[grepl(\"log\",colnames(pred_summary))&grepl(\"X95\",colnames(pred_summary))]]\n",
    "\n",
    "    # Put the values together in the dataframe\n",
    "    df<-cbind(mean,q5,q95)\n",
    "    colnames(df)<-paste(crop,colnames(df),sep=\"_\")\n",
    "    # Simplify colum names a bit\n",
    "    colnames(df)<-gsub(\"s_pred\",\"\",colnames(df))\n",
    "    colnames(df)<-gsub(\"_X\",\"\",colnames(df))\n",
    "    colnames(df)<-gsub(\"\\\\.\",\"\",colnames(df))\n",
    "    \n",
    "    # Bind data to spatial polygons\n",
    "    china@data<-cbind(china@data,df)"
   ]
  },
  {
   "cell_type": "code",
   "execution_count": 13,
   "metadata": {},
   "outputs": [],
   "source": [
    "locdata<-read.csv(here(\"data\",\"locations_suitability.csv\"))"
   ]
  },
  {
   "cell_type": "code",
   "execution_count": 19,
   "metadata": {},
   "outputs": [],
   "source": [
    "threshold<-min(locdata[,paste(crop,\"Mean\",sep=\"\")],na.rm=TRUE)"
   ]
  },
  {
   "cell_type": "code",
   "execution_count": 26,
   "metadata": {},
   "outputs": [],
   "source": [
    "columns<-c(\"millet_mean_6000_log\",\"millet_mean_5000_log\")"
   ]
  },
  {
   "cell_type": "code",
   "execution_count": 47,
   "metadata": {},
   "outputs": [],
   "source": [
    "min<-floor(min(c(min(china@data[columns]),posterior$X5._log)))\n",
    "max<-ceiling(max(c(max(china@data[columns])),posterior$X95._log))"
   ]
  },
  {
   "cell_type": "code",
   "execution_count": 179,
   "metadata": {},
   "outputs": [],
   "source": [
    "pred_maps<-tm_shape(china,bbox=c(108, 15, 125, 35))+\n",
    "    # Define the grid form maps drawing\n",
    "    tm_graticules(lwd = 0.05,col=\"grey75\",n.x=2,n.y=3,labels.size = 0.8)+\n",
    "    # Define the colors of the polygons and the legend\n",
    "    tm_fill(col=columns,style=\"cont\",breaks=seq(min,max,5),legend.reverse = TRUE,palette=\"-RdYlBu\",title = paste(\"log area\\nfraction\\nunder\\n\",crop,\"\\ncultivation\",sep=\"\"),showNA = F,midpoint=threshold)+\n",
    "    tm_facets(free.scales=FALSE,free.coords=FALSE,ncol = 2)+    \n",
    "    tm_shape(rivers)+\n",
    "    tm_lines(col=\"steelblue\",lwd=1.2)+\n",
    "    tm_shape(rivers2)+\n",
    "    tm_lines(col=\"steelblue\",lwd=1.2)+\n",
    "    tm_shape(outer_border)+\n",
    "    tm_borders(col=\"grey35\",lwd=1)+\n",
    "    tm_text(text=\"NAME_1\",size=0.6,col=\"grey35\")+\n",
    "    tm_layout(panel.labels=c(\"6000 BP\",\"5000 BP\"),\n",
    "              panel.label.bg.color=\"white\",\n",
    "              frame=FALSE,\n",
    "              legend.outside.size=0.08,\n",
    "              legend.outside = TRUE,\n",
    "              legend.text.size = 0.4,\n",
    "              panel.label.size = 1,\n",
    "              panel.label.fontface = \"bold\",\n",
    "              legend.title.size=0.8,\n",
    "              frame.lwd = NA,\n",
    "              panel.label.height=2,\n",
    "              attr.outside=TRUE,\n",
    "              outer.margins=c(0.00001,0.01,0.01,0.01)\n",
    "             )"
   ]
  },
  {
   "cell_type": "code",
   "execution_count": null,
   "metadata": {},
   "outputs": [],
   "source": [
    "width=14.3\n",
    "height=8\n",
    "\n",
    "tmap_save(tm = pred_maps,filename = paste(path2outputs,\"\\\\\",\"southChina.png\",sep=\"\"),scale=1,width = width,height = height,units = \"cm\",dpi = 300)"
   ]
  },
  {
   "cell_type": "code",
   "execution_count": 172,
   "metadata": {},
   "outputs": [],
   "source": [
    "pred_maps<-tm_shape(china,bbox=c(108, 15, 125, 35))+\n",
    "    # Define the grid form maps drawing\n",
    "    tm_graticules(lwd = 0.05,col=\"grey75\",n.x=2,n.y=3,labels.size = 0.8)+\n",
    "    # Define the colors of the polygons and the legend\n",
    "    tm_fill(col=columns,col.title=c(\"1\",\"2\"),style=\"cont\",breaks=seq(min,max,5),legend.reverse = TRUE,palette=\"-RdYlBu\",title = paste(\"log area\\nfraction\\nunder\\n\",crop,\"\\ncultivation\",sep=\"\"),showNA = F,midpoint=threshold)+\n",
    "    tm_facets(free.scales=FALSE,free.coords=FALSE,ncol = 2)+    \n",
    "    tm_shape(rivers)+\n",
    "    tm_lines(col=\"steelblue\",lwd=1.2)+\n",
    "    tm_shape(rivers2)+\n",
    "    tm_lines(col=\"steelblue\",lwd=1.2)+\n",
    "    tm_shape(outer_border)+\n",
    "    tm_borders(col=\"black\",lwd=1)+\n",
    "    tm_text(text=\"NAME_1\",size=0.6)"
   ]
  }
 ],
 "metadata": {
  "kernelspec": {
   "display_name": "R",
   "language": "R",
   "name": "ir"
  },
  "language_info": {
   "codemirror_mode": "r",
   "file_extension": ".r",
   "mimetype": "text/x-r-source",
   "name": "R",
   "pygments_lexer": "r",
   "version": "4.0.3"
  }
 },
 "nbformat": 4,
 "nbformat_minor": 4
}
