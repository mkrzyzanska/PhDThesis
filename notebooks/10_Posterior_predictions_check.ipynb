{
 "cells": [
  {
   "cell_type": "markdown",
   "metadata": {},
   "source": [
    "# Plotting predictions\n",
    "\n",
    "This code plots the [distribution of prediction errors and confidence intervals for all counties](../outputs/ESM_9.tiff), predictions for the [present](../outputs/ESM_11.tiff) and [past](../outputs/Fig4.tiff) distribution of buckwheat, as well as the [suitability of locations with buckwheat overlaid on the overall suitability of environmental conditions across time](../outputs/Fig3.tiff). "
   ]
  },
  {
   "cell_type": "code",
   "execution_count": null,
   "metadata": {},
   "outputs": [],
   "source": [
    "### Load libraries\n",
    "library(here)\n",
    "library(rgeos)\n",
    "library(geosphere)\n",
    "library(rgdal)\n",
    "library(\"ggplot2\")\n",
    "library(\"tidyr\")\n",
    "library(raster) # for crs\n",
    "library(ggbeeswarm)\n",
    "library(tmap)\n",
    "library(sf)\n",
    "library(stringr)\n",
    "library(xlsx)"
   ]
  },
  {
   "cell_type": "code",
   "execution_count": 2,
   "metadata": {},
   "outputs": [],
   "source": [
    "### Load utility functions and themes\n",
    "source(here(\"R\",\"getNicheOutline.R\"))\n",
    "source(here(\"R\",\"theme_tmaps.R\"))"
   ]
  },
  {
   "cell_type": "code",
   "execution_count": 3,
   "metadata": {},
   "outputs": [],
   "source": [
    "### Define paths\n",
    "\n",
    "# Define imputs paths:\n",
    "\n",
    "# Admnistrative map of China\n",
    "path2china<-here('raw_data','CHN_adm')\n",
    "\n",
    "# Archaeological records location data\n",
    "path2buckwheat<-here(\"data\",\"ESM_2.csv\") # Buckwheat's occurrence records\n",
    "path2locations<-here(\"data\",\"guedesbocinsky2018_crops_across_eurasia_translated.xlsx\")\n",
    "\n",
    "# Production and predictions data\n",
    "path2production<-here('data','production','by_county')\n",
    "path2predictions <- here(\"outputs\",\"predictions\")"
   ]
  },
  {
   "cell_type": "code",
   "execution_count": 4,
   "metadata": {},
   "outputs": [],
   "source": [
    "# Define output paths:\n",
    "\n",
    "path2outputs<-here(\"manuscript\",\"Chapter6\",\"Figs\",\"Raster\")\n",
    "\n",
    "path2difference<-paste(path2outputs,\"posterior_difference.png\",sep=\"//\")\n",
    "path2intervals<-paste(path2outputs,\"prediction_intervals.png\",sep=\"//\")"
   ]
  },
  {
   "cell_type": "code",
   "execution_count": 5,
   "metadata": {},
   "outputs": [
    {
     "name": "stdout",
     "output_type": "stream",
     "text": [
      "Reading layer `CHN_adm0' from data source `G:\\My Drive\\my_repositories\\PhD\\raw_data\\CHN_adm' using driver `ESRI Shapefile'\n",
      "Simple feature collection with 1 feature and 70 fields\n",
      "geometry type:  MULTIPOLYGON\n",
      "dimension:      XY\n",
      "bbox:           xmin: 73.5577 ymin: 18.15931 xmax: 134.7739 ymax: 53.56086\n",
      "geographic CRS: WGS 84\n",
      "OGR data source with driver: ESRI Shapefile \n",
      "Source: \"G:\\My Drive\\my_repositories\\PhD\\raw_data\\CHN_adm\", layer: \"CHN_adm3\"\n",
      "with 2409 features\n",
      "It has 13 fields\n",
      "Integer64 fields read as strings:  ID_0 ID_1 ID_2 ID_3 \n"
     ]
    }
   ],
   "source": [
    "# Import data:\n",
    "# Import the outer border of China\n",
    "outer_border<-st_read(dsn=path2china,layer='CHN_adm0')\n",
    "# Import the spatial polygons data frame of counties:\n",
    "china<-readOGR(dsn=path2china,layer='CHN_adm3')\n",
    "# Import production data"
   ]
  },
  {
   "cell_type": "code",
   "execution_count": 6,
   "metadata": {},
   "outputs": [],
   "source": [
    "# List of crops in the analysis:\n",
    "\n",
    "crops<-c(\"rice\",\"millet\",\"buckwheat\",\"wheat\",\"barley\")"
   ]
  },
  {
   "cell_type": "markdown",
   "metadata": {},
   "source": [
    "# Posterior predictive check"
   ]
  },
  {
   "cell_type": "code",
   "execution_count": 7,
   "metadata": {},
   "outputs": [
    {
     "name": "stdout",
     "output_type": "stream",
     "text": [
      "[1] \"rice\"\n",
      "[1] \"millet\"\n",
      "[1] \"buckwheat\"\n",
      "[1] \"wheat\"\n",
      "[1] \"barley\"\n"
     ]
    }
   ],
   "source": [
    "# Loop over crops to get their summaries for the predictive check:\n",
    "\n",
    "for (crop in crops){\n",
    "    print(crop)\n",
    "    # Add the paht\n",
    "    path2prod<-paste(path2production,\"/\",crop,\".csv\",sep=\"\")\n",
    "    path2post <-paste(path2predictions,\"/\",crop,\"_posterior_predictions_summary.csv\",sep=\"\")\n",
    "\n",
    "    # Read production data and posterior distribution\n",
    "    posterior<-read.csv(path2post)\n",
    "    prd<-read.csv(path2prod,row.names=1)\n",
    "\n",
    "    # Get the observed values\n",
    "    logArea<-prd$logProportionAreaCultivated\n",
    "\n",
    "    # Get mean and confidence interval for posterior predictions\n",
    "    mean<-posterior[,colnames(posterior)[grepl(\"log\",colnames(posterior))&grepl(\"mean\",colnames(posterior))]]\n",
    "    q5<-posterior[,colnames(posterior)[grepl(\"log\",colnames(posterior))&grepl(\"X5\",colnames(posterior))]]\n",
    "    q95<-posterior[,colnames(posterior)[grepl(\"log\",colnames(posterior))&grepl(\"X95\",colnames(posterior))]]\n",
    "\n",
    "    # Put the values together in the dataframe\n",
    "    df<-data.frame(mean,q5,q95,logArea)\n",
    "\n",
    "    # Calculate the difference between predictions an observation\n",
    "    df$difference<-df$mean - df$logArea\n",
    "    df$interval<-df$q95 - df$q5\n",
    "\n",
    "    # Add the name of the crop to the column names\n",
    "    colnames(df)<-paste(crop,colnames(df),sep=\"_\")\n",
    "    \n",
    "    # Bind data to spatial polygons\n",
    "    china@data<-cbind(china@data,df)\n",
    "    }"
   ]
  },
  {
   "cell_type": "code",
   "execution_count": 8,
   "metadata": {},
   "outputs": [],
   "source": [
    "### Gather data by differenc and interval for plotting\n",
    "difference<-gather(china@data[,paste(crops,'difference',sep=\"_\")], key = \"stat\",value=\"value\")\n",
    "difference$stat<-factor(difference$stat, levels=paste(crops,'difference',sep=\"_\"),ordered=TRUE)\n",
    "\n",
    "interval<-gather(china@data[,paste(crops,'interval',sep=\"_\")], key = \"stat\",value=\"value\")\n",
    "interval$stat<-factor(interval$stat, levels=paste(crops,'interval',sep=\"_\"),ordered=TRUE)"
   ]
  },
  {
   "cell_type": "code",
   "execution_count": null,
   "metadata": {},
   "outputs": [],
   "source": [
    "### Plot the distribution of differences\n",
    "dp<-ggplot(difference, aes(x=stat,y=value)) + \n",
    "  geom_violin(lwd=0.5,color=\"#6497b1\",fill=\"#b3cde0\")+\n",
    "  geom_boxplot(width=0.05,fill=\"#005b96\",outlier.size=0,lwd=0.3,outlier.shape=NA)+\n",
    "  geom_hline(yintercept=0,col=\"red\",linetype=\"dashed\")+\n",
    "  theme_classic()+ \n",
    "  theme(axis.title=element_text(size=7,face=\"plain\"),\n",
    "          axis.text=element_text(size=7))+\n",
    "  labs(y=\"difference between the predicted and the observed values\\nof log proportion of area under cultivation\\n\",x=\"\")+\n",
    "  scale_x_discrete(labels=crops)+\n",
    "  scale_y_continuous(breaks=seq(-20,25,5))\n",
    "\n",
    "# Optionally plot in jupyter as well\n",
    "options(repr.plot.width=6,repr.plot.height=3.5,repr.plot.res=300)\n",
    "dp"
   ]
  },
  {
   "cell_type": "code",
   "execution_count": 14,
   "metadata": {},
   "outputs": [],
   "source": [
    "width=14.3\n",
    "height=8.3\n",
    "ggsave(dp,filename = path2difference,width = width,height = height,units = \"cm\",dpi = 600)"
   ]
  },
  {
   "cell_type": "code",
   "execution_count": null,
   "metadata": {},
   "outputs": [],
   "source": [
    "### Plot the distribution of intervals\n",
    "\n",
    "ip<-ggplot(interval, aes(x=stat,y=value)) + \n",
    "  geom_violin(lwd=0.5,color=\"#6497b1\",fill=\"#b3cde0\")+\n",
    "  geom_boxplot(width=0.05,fill=\"#005b96\",outlier.size=0,outlier.shape=NA)+\n",
    "  theme_classic()+ \n",
    "  theme(axis.title=element_text(size=7,face=\"plain\"),\n",
    "          axis.text=element_text(size=7))+\n",
    "  labs(y=\"prediction 90% confidence interval \\nin log proportion of area under cultivation\\n\",x=\"\")+\n",
    "  scale_x_discrete(labels=crops)+\n",
    "  scale_y_continuous(breaks=seq(0,20,2))\n",
    "\n",
    "# Optionally plot in jupyter as well\n",
    "options(repr.plot.width=6,repr.plot.height=3.5,repr.plot.res=300)\n",
    "ip"
   ]
  },
  {
   "cell_type": "code",
   "execution_count": 18,
   "metadata": {},
   "outputs": [],
   "source": [
    "width=14.3\n",
    "height=8.3\n",
    "ggsave(ip,filename = path2intervals,width = width,height = height,units = \"cm\",dpi = 600)"
   ]
  },
  {
   "cell_type": "code",
   "execution_count": 16,
   "metadata": {},
   "outputs": [],
   "source": [
    "# Plot the potential nich predictions and diagnostics for the present distribution\n",
    "# Define the labels:\n",
    "    columns<-paste(crop,c(\"logArea\",\"q95\",\"mean\",\"q5\",\"difference\",\"interval\"),sep=\"_\")\n",
    "    labels<-c(\"A: OBSERVED VALUES\", \"B: PREDICTIONS AT 95TH PERCENTILE\",\"C: MEAN PREDICTIONS\",\"D: PREDICTIONS AT 5TH PERCENTILE\",\"E: DIFFERENCE BETWEEN THE MEAN\\nPREDICTIONS AND THE OBSERVED VALEUS\\n\",\"F: SIZE OF THE 90% CONFIDENCE INTERVAL\\n\")"
   ]
  },
  {
   "cell_type": "code",
   "execution_count": null,
   "metadata": {},
   "outputs": [],
   "source": [
    "# Plot the potential nich predictions and diagnostics for the present distribution on the maps for each crop\n",
    "\n",
    "for (crop in crops){\n",
    "    print(crop)\n",
    "    \n",
    "    check_maps<-tm_shape(china) +\n",
    "        tm_graticules(lwd = 0.05,col=\"grey75\",n.x=2,n.y=3,labels.size = 0.8)+\n",
    "        # Define the colors of the polygons and the legend\n",
    "        tm_fill(col=columns[1:4], title.col=\"Period\",style=\"cont\",n=20,legend.reverse = TRUE,palette=\"-RdYlBu\",title = \"log area\\nfraction\\nunder\\ncultivation\",showNA = F,midpoint=NA)+\n",
    "        # Define the facets to draw:\n",
    "        tm_facets(free.scales=FALSE,free.coords=FALSE,ncol = 2,nrow = 2)+   \n",
    "        # Add the shape of the predicted niche  \n",
    "        #tm_shape(inner_border_check)+\n",
    "        #tm_borders(col=\"grey1\",lwd=0.8,lty=\"dashed\")+\n",
    "        #tm_facets(by = \"id\",free.scales=FALSE,free.coords=FALSE,ncol=2,nrow=2)+\n",
    "        # Add the outer border to the plot\n",
    "        tm_shape(outer_border)+\n",
    "        tm_borders(col=\"grey75\",lwd=0.8)+\n",
    "        theme_tmaps+\n",
    "        # Format layout:\n",
    "        tm_layout(panel.labels=labels[1:4],\n",
    "              legend.outside.size=0.08,\n",
    "              legend.outside = TRUE,\n",
    "              legend.text.size = 0.5,\n",
    "              panel.label.size = 0.8,\n",
    "              legend.title.size=0.6,\n",
    "              panel.label.height=2,\n",
    "              inner.margins=c(0,0,0,0))\n",
    "\n",
    "\n",
    "    # Make difference maps:\n",
    "    diff_maps<-tm_shape(china)+\n",
    "        tm_graticules(lwd = 0.05,col=\"grey75\",n.x=2,n.y=3,labels.size = 0.6)+\n",
    "        tm_fill(col=columns[5:6], title.col=\"Period\",style = \"cont\",legend.reverse = TRUE,palette=c(\"-RdBu\"),title = c(\"log area\\nfraction\\nunder\\ncultivation\"),showNA = F)+\n",
    "        tm_shape(outer_border)+\n",
    "        tm_borders(col=\"grey75\",lwd=0.35)+    \n",
    "        theme_tmaps+\n",
    "        tm_layout(panel.labels=labels[5:6],\n",
    "              legend.outside.size=0.08,\n",
    "              legend.outside = TRUE,\n",
    "              legend.text.size = 0.4,\n",
    "              panel.label.size = 0.55,\n",
    "              legend.title.size=0.6,\n",
    "              panel.label.height=3,\n",
    "             inner.margins=c(0,0,0,0),\n",
    "             outer.margins=c(0.01,0.0425,0.01,0.02),\n",
    "             between.margin=1)+\n",
    "    tm_facets(free.scales=FALSE,free.coords=FALSE,nrow=1,ncol=2)+\n",
    "    tm_credits(\"Coordinate system: World Geodetic System 1984\",position=c(\"left\",\"BOTTOM\"),size=0.65)\n",
    "\n",
    "\n",
    "    cm<-tmap_arrange(check_maps, diff_maps, heights=c(19.45/30,10.55/30),outer.margins=NULL)\n",
    "    \n",
    "    ### Save maps\n",
    "    width=14.3 #17.4\n",
    "    height=16 #20.4\n",
    "    tmap_save(tm = cm,filename = paste(path2outputs,\"/\",crop,\"_predictive_check_maps.png\",sep=\"\"),width = width,height = height,units = \"cm\",dpi = 600)\n",
    "    \n",
    "    }"
   ]
  },
  {
   "cell_type": "markdown",
   "metadata": {},
   "source": [
    "## Predictions"
   ]
  },
  {
   "cell_type": "code",
   "execution_count": 47,
   "metadata": {},
   "outputs": [],
   "source": [
    "pred_maps<-tm_shape(china) +\n",
    "    # Define the grid form maps drawing\n",
    "    tm_graticules(lwd = 0.05,col=\"grey75\",n.x=2,n.y=3,labels.size = 0.8)+\n",
    "    # Define the colors of the polygons and the legend\n",
    "    tm_fill(col=columns, title.col=\"Period\",style=\"cont\",breaks=seq(-26,6,2),legend.reverse = TRUE,palette=\"-RdYlBu\",title = \"log area\\nfraction\\nunder\\ncultivation\",showNA = F,midpoint=NA)+\n",
    "    # Define the facets to draw:\n",
    "    tm_facets(free.scales=FALSE,free.coords=FALSE,ncol = 2,nrow = 5)+   \n",
    "     # Add the shape of the predicted mean niche  \n",
    "    #tm_shape(inner_border)+\n",
    "    #tm_borders(col=\"grey10\",lwd=1,lty=\"dashed\")+\n",
    "    #tm_facets(by = \"id\",free.scales=FALSE,free.coords=FALSE,ncol=2,nrow=4)+\n",
    "    # Add the outer border to the plot\n",
    "    tm_shape(outer_border)+\n",
    "    tm_borders(col=\"grey75\",lwd=1)+\n",
    "    # Add the labels of the relevant regions\n",
    "    #tm_shape(reg)+\n",
    "    #tm_text(\"label\",size=1.5)+\n",
    "    #tm_facets(by = \"period\",free.scales=FALSE,free.coords=FALSE,ncol=2,nrow=4,drop.empty.facets = FALSE)+\n",
    "    # Add the location of macro and microfossils to the map\n",
    "    #tm_shape(macros)+\n",
    "    #tm_symbols(col =\"Sample_type\", shape=\"Sample_type\",size=0.6,legend.col.show=FALSE,legend.shape.show=FALSE,palette=c(\"mediumorchid4\",\"red\",\"mediumseagreen\",\"slateblue1\"),shapes = c(24,25,21,22),alpha=0.6)+\n",
    "    #tm_text(text=\"map_labels\",size=0.8,ymod=\"adjy\",xmod=\"adjx\")+\n",
    "    #tm_facets(by = \"period\",free.scales=FALSE,free.coords=FALSE,ncol=2,nrow=4,drop.empty.facets = FALSE)+  \n",
    "    # Format layout:\n",
    "    tm_layout(panel.labels=facets,\n",
    "              panel.label.bg.color=\"white\",\n",
    "              frame=FALSE,\n",
    "              legend.outside.size=0.08,\n",
    "              legend.outside = TRUE,\n",
    "              legend.text.size = 0.4,\n",
    "              panel.label.size = 1,\n",
    "              panel.label.fontface = \"bold\",\n",
    "              legend.title.size=1,\n",
    "              frame.lwd = NA,\n",
    "              panel.label.height=2,\n",
    "              attr.outside=TRUE\n",
    "             )+\n",
    "    # Add legend for symbols\n",
    "    #tm_add_legend(\"symbol\",shape=c(17,24,17,21,17,22,17,25,17,17,65,17,17,66,17), col = c(\"white\",\"mediumorchid4\",\"white\",\"mediumseagreen\",\"white\",\"slateblue1\",\"white\",\"red\",\"white\",\"white\",\"black\",\"white\",\"white\",\"black\",\"white\"), size = c(0.8,0.8,0.8,0.8),labels = str_wrap(c(\"\",\"charred seeds\",\"\",\"pollen\",\"\",\"starch\",\"\",\"F. tataricum charred seeds\",\"\",\"\",\"inferred origin\",\"\",\"\",\"maximum suitability area\",\"\"),width=12),alpha=0.6)+\n",
    "    # Add projection information\n",
    "    tm_credits(\"\\n\\nCoordinate system: World Geodetic System 1984\",position=c(\"left\",\"bottom\"))"
   ]
  },
  {
   "cell_type": "code",
   "execution_count": null,
   "metadata": {},
   "outputs": [],
   "source": [
    "width=14.3\n",
    "height=23.2\n",
    "tmap_save(tm = pred_maps,filename = path2predMaps,width = width,height = height,units = \"cm\",dpi = 600)"
   ]
  }
 ],
 "metadata": {
  "kernelspec": {
   "display_name": "R",
   "language": "R",
   "name": "ir"
  },
  "language_info": {
   "codemirror_mode": "r",
   "file_extension": ".r",
   "mimetype": "text/x-r-source",
   "name": "R",
   "pygments_lexer": "r",
   "version": "4.0.3"
  }
 },
 "nbformat": 4,
 "nbformat_minor": 4
}
